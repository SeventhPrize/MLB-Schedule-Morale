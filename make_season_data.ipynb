{
 "cells": [
  {
   "cell_type": "markdown",
   "id": "ee3817fe-a6c8-444f-afcd-965b8c7ee3b5",
   "metadata": {},
   "source": [
    "This notebook processes all the data in *datathon_2024_dataset_corrected.csv* into a dataset that relates the outcome of each game to the team's short-term travel history preceding the game."
   ]
  },
  {
   "cell_type": "code",
   "execution_count": 157,
   "id": "c689c691-08d1-42cf-9331-971dc5f492f2",
   "metadata": {},
   "outputs": [],
   "source": [
    "import numpy as np\n",
    "import pandas as pd\n",
    "from geopy.distance import distance as geodist\n",
    "from tqdm import tqdm\n",
    "import itertools as itr"
   ]
  },
  {
   "cell_type": "code",
   "execution_count": 2,
   "id": "262561d6-0c9e-4759-870c-d917ad8fbc31",
   "metadata": {},
   "outputs": [
    {
     "name": "stdout",
     "output_type": "stream",
     "text": [
      "   Unnamed: 0  game_date home_team away_team  is_day_game  home_score  \\\n",
      "0           0   20000329       NYN       CHN        False           3   \n",
      "1           1   20000330       CHN       NYN        False           1   \n",
      "2           2   20000403       ATL       COL         True           2   \n",
      "3           3   20000403       CIN       MIL         True           3   \n",
      "4           4   20000403       FLO       SFN        False           6   \n",
      "\n",
      "   away_score  venue        venue_name        city  ... home_pa  home_1b  \\\n",
      "0           5  TOK01        Tokyo Dome       Tokyo  ...      38        5   \n",
      "1           5  TOK01        Tokyo Dome       Tokyo  ...      44        5   \n",
      "2           0  ATL02      Turner Field     Atlanta  ...      32        5   \n",
      "3           3  CIN08     Cinergy Field  Cincinnati  ...      20        3   \n",
      "4           4  MIA01  Sun Life Stadium       Miami  ...      38        9   \n",
      "\n",
      "   home_2b  home_3b  home_hr  home_fo  home_so  home_bb  home_hbp       date  \n",
      "0        1        0        1       24        4        3         0 2000-03-29  \n",
      "1        0        0        0       24        9        6         0 2000-03-30  \n",
      "2        0        0        2       17        6        1         1 2000-04-03  \n",
      "3        1        0        1       10        4        1         0 2000-04-03  \n",
      "4        3        0        0       17        7        1         1 2000-04-03  \n",
      "\n",
      "[5 rows x 30 columns]\n"
     ]
    }
   ],
   "source": [
    "df = pd.read_csv('.data/datathon_2024_dataset_corrected.csv')\n",
    "df[\"date\"] = pd.to_datetime(df[\"game_date\"], format='%Y%m%d')\n",
    "df = df[['date', 'home_team', 'away_team', 'is_day_game', 'home_score', 'away_score', 'venue_name']]\n",
    "print(df.head())"
   ]
  },
  {
   "cell_type": "code",
   "execution_count": 129,
   "id": "973d6336-74a6-402d-a5cf-6db5e7e57098",
   "metadata": {},
   "outputs": [
    {
     "name": "stdout",
     "output_type": "stream",
     "text": [
      "                     lat     long\n",
      "venue_name                       \n",
      "Tokyo Dome        35.705  139.752\n",
      "Turner Field      33.735  -84.389\n",
      "Cinergy Field     39.548  -84.303\n",
      "Sun Life Stadium  25.959  -80.240\n",
      "Stade Olympique   45.558  -73.552\n"
     ]
    }
   ],
   "source": [
    "venue_df = pd.read_csv('.data/venue.csv', index_col='venue_name')\n",
    "print(venue_df.head())"
   ]
  },
  {
   "cell_type": "code",
   "execution_count": 4,
   "id": "2a20b238-cb26-4028-a316-5b9766f7c14b",
   "metadata": {},
   "outputs": [
    {
     "name": "stdout",
     "output_type": "stream",
     "text": [
      "[2000 2001 2002 2003 2004 2005 2006 2007 2008 2009 2010 2011 2012 2013\n",
      " 2014 2015 2016 2017 2018 2019 2020 2021 2022 2023]\n"
     ]
    }
   ],
   "source": [
    "years = df['date'].dt.year.unique()\n",
    "years.sort()\n",
    "print(years)"
   ]
  },
  {
   "cell_type": "code",
   "execution_count": 5,
   "id": "0e00bc25-238f-4eb0-889c-cbfbfc264c70",
   "metadata": {},
   "outputs": [
    {
     "name": "stdout",
     "output_type": "stream",
     "text": [
      "['ANA' 'ARI' 'ATL' 'BAL' 'BOS' 'CHA' 'CHN' 'CIN' 'CLE' 'COL' 'DET' 'FLO'\n",
      " 'HOU' 'KCA' 'LAN' 'MIA' 'MIL' 'MIN' 'MON' 'NYA' 'NYN' 'OAK' 'PHI' 'PIT'\n",
      " 'SDN' 'SEA' 'SFN' 'SLN' 'TBA' 'TEX' 'TOR' 'WAS']\n"
     ]
    }
   ],
   "source": [
    "teams = df['home_team'].unique()\n",
    "teams.sort()\n",
    "print(teams)"
   ]
  },
  {
   "cell_type": "code",
   "execution_count": 9,
   "id": "8344199b-386a-45ec-87ef-ec656fac1b2e",
   "metadata": {},
   "outputs": [
    {
     "name": "stderr",
     "output_type": "stream",
     "text": [
      "100%|█| 56775/56775 ["
     ]
    },
    {
     "name": "stdout",
     "output_type": "stream",
     "text": [
      "        date home_team away_team  is_day_game  home_score  away_score  \\\n",
      "0 2000-03-29       NYN       CHN        False           3           5   \n",
      "1 2000-03-30       CHN       NYN        False           1           5   \n",
      "2 2000-04-03       ATL       COL         True           2           0   \n",
      "3 2000-04-03       CIN       MIL         True           3           3   \n",
      "4 2000-04-03       FLO       SFN        False           6           4   \n",
      "\n",
      "         venue_name  day  \n",
      "0        Tokyo Dome    0  \n",
      "1        Tokyo Dome    1  \n",
      "2      Turner Field    5  \n",
      "3     Cinergy Field    5  \n",
      "4  Sun Life Stadium    5  \n"
     ]
    },
    {
     "name": "stderr",
     "output_type": "stream",
     "text": [
      "\n"
     ]
    }
   ],
   "source": [
    "opening_day = {yr : df['date'][df['date'].dt.year == yr].min() for yr in years}\n",
    "\n",
    "df['day'] = 0\n",
    "for ind in tqdm(df.index):\n",
    "    df.loc[ind, 'day'] = (df.loc[ind, 'date'] - opening_day[df.loc[ind, 'date'].year]).days\n",
    "\n",
    "print(df.head())"
   ]
  },
  {
   "cell_type": "code",
   "execution_count": 95,
   "id": "c37c4d8f-7bf2-495d-99eb-3c6823248f43",
   "metadata": {},
   "outputs": [
    {
     "name": "stderr",
     "output_type": "stream",
     "text": [
      "100%|█| 56775/56775 ["
     ]
    },
    {
     "name": "stdout",
     "output_type": "stream",
     "text": [
      "                           ANA          ARI           ATL  \\\n",
      "2000  Angel Stadium of Anaheim  Chase Field  Turner Field   \n",
      "2001  Angel Stadium of Anaheim  Chase Field  Turner Field   \n",
      "2002  Angel Stadium of Anaheim  Chase Field  Turner Field   \n",
      "2003  Angel Stadium of Anaheim  Chase Field  Turner Field   \n",
      "2004  Angel Stadium of Anaheim  Chase Field  Turner Field   \n",
      "2005  Angel Stadium of Anaheim  Chase Field  Turner Field   \n",
      "2006  Angel Stadium of Anaheim  Chase Field  Turner Field   \n",
      "2007  Angel Stadium of Anaheim  Chase Field  Turner Field   \n",
      "2008  Angel Stadium of Anaheim  Chase Field  Turner Field   \n",
      "2009  Angel Stadium of Anaheim  Chase Field  Turner Field   \n",
      "2010  Angel Stadium of Anaheim  Chase Field  Turner Field   \n",
      "2011  Angel Stadium of Anaheim  Chase Field  Turner Field   \n",
      "2012  Angel Stadium of Anaheim  Chase Field  Turner Field   \n",
      "2013  Angel Stadium of Anaheim  Chase Field  Turner Field   \n",
      "2014  Angel Stadium of Anaheim  Chase Field  Turner Field   \n",
      "2015  Angel Stadium of Anaheim  Chase Field  Turner Field   \n",
      "2016  Angel Stadium of Anaheim  Chase Field  Turner Field   \n",
      "2017  Angel Stadium of Anaheim  Chase Field   Truist Park   \n",
      "2018  Angel Stadium of Anaheim  Chase Field   Truist Park   \n",
      "2019  Angel Stadium of Anaheim  Chase Field   Truist Park   \n",
      "2020  Angel Stadium of Anaheim  Chase Field   Truist Park   \n",
      "2021  Angel Stadium of Anaheim  Chase Field   Truist Park   \n",
      "2022  Angel Stadium of Anaheim  Chase Field   Truist Park   \n",
      "2023  Angel Stadium of Anaheim  Chase Field   Truist Park   \n",
      "\n",
      "                              BAL          BOS  \\\n",
      "2000  Oriole Park at Camden Yards  Fenway Park   \n",
      "2001  Oriole Park at Camden Yards  Fenway Park   \n",
      "2002  Oriole Park at Camden Yards  Fenway Park   \n",
      "2003  Oriole Park at Camden Yards  Fenway Park   \n",
      "2004  Oriole Park at Camden Yards  Fenway Park   \n",
      "2005  Oriole Park at Camden Yards  Fenway Park   \n",
      "2006  Oriole Park at Camden Yards  Fenway Park   \n",
      "2007  Oriole Park at Camden Yards  Fenway Park   \n",
      "2008  Oriole Park at Camden Yards  Fenway Park   \n",
      "2009  Oriole Park at Camden Yards  Fenway Park   \n",
      "2010  Oriole Park at Camden Yards  Fenway Park   \n",
      "2011  Oriole Park at Camden Yards  Fenway Park   \n",
      "2012  Oriole Park at Camden Yards  Fenway Park   \n",
      "2013  Oriole Park at Camden Yards  Fenway Park   \n",
      "2014  Oriole Park at Camden Yards  Fenway Park   \n",
      "2015  Oriole Park at Camden Yards  Fenway Park   \n",
      "2016  Oriole Park at Camden Yards  Fenway Park   \n",
      "2017  Oriole Park at Camden Yards  Fenway Park   \n",
      "2018  Oriole Park at Camden Yards  Fenway Park   \n",
      "2019  Oriole Park at Camden Yards  Fenway Park   \n",
      "2020  Oriole Park at Camden Yards  Fenway Park   \n",
      "2021  Oriole Park at Camden Yards  Fenway Park   \n",
      "2022  Oriole Park at Camden Yards  Fenway Park   \n",
      "2023  Oriole Park at Camden Yards  Fenway Park   \n",
      "\n",
      "                                            CHA            CHN  \\\n",
      "2000  Guaranteed Rate Field;U.S. Cellular Field  Wrigley Field   \n",
      "2001  Guaranteed Rate Field;U.S. Cellular Field  Wrigley Field   \n",
      "2002  Guaranteed Rate Field;U.S. Cellular Field  Wrigley Field   \n",
      "2003  Guaranteed Rate Field;U.S. Cellular Field  Wrigley Field   \n",
      "2004  Guaranteed Rate Field;U.S. Cellular Field  Wrigley Field   \n",
      "2005  Guaranteed Rate Field;U.S. Cellular Field  Wrigley Field   \n",
      "2006  Guaranteed Rate Field;U.S. Cellular Field  Wrigley Field   \n",
      "2007  Guaranteed Rate Field;U.S. Cellular Field  Wrigley Field   \n",
      "2008  Guaranteed Rate Field;U.S. Cellular Field  Wrigley Field   \n",
      "2009  Guaranteed Rate Field;U.S. Cellular Field  Wrigley Field   \n",
      "2010  Guaranteed Rate Field;U.S. Cellular Field  Wrigley Field   \n",
      "2011  Guaranteed Rate Field;U.S. Cellular Field  Wrigley Field   \n",
      "2012  Guaranteed Rate Field;U.S. Cellular Field  Wrigley Field   \n",
      "2013  Guaranteed Rate Field;U.S. Cellular Field  Wrigley Field   \n",
      "2014  Guaranteed Rate Field;U.S. Cellular Field  Wrigley Field   \n",
      "2015  Guaranteed Rate Field;U.S. Cellular Field  Wrigley Field   \n",
      "2016  Guaranteed Rate Field;U.S. Cellular Field  Wrigley Field   \n",
      "2017  Guaranteed Rate Field;U.S. Cellular Field  Wrigley Field   \n",
      "2018  Guaranteed Rate Field;U.S. Cellular Field  Wrigley Field   \n",
      "2019  Guaranteed Rate Field;U.S. Cellular Field  Wrigley Field   \n",
      "2020  Guaranteed Rate Field;U.S. Cellular Field  Wrigley Field   \n",
      "2021  Guaranteed Rate Field;U.S. Cellular Field  Wrigley Field   \n",
      "2022  Guaranteed Rate Field;U.S. Cellular Field  Wrigley Field   \n",
      "2023  Guaranteed Rate Field;U.S. Cellular Field  Wrigley Field   \n",
      "\n",
      "                          CIN                CLE          COL  ...  \\\n",
      "2000            Cinergy Field  Progressive Field  Coors Field  ...   \n",
      "2001            Cinergy Field  Progressive Field  Coors Field  ...   \n",
      "2002            Cinergy Field  Progressive Field  Coors Field  ...   \n",
      "2003  Great American Ballpark  Progressive Field  Coors Field  ...   \n",
      "2004  Great American Ballpark  Progressive Field  Coors Field  ...   \n",
      "2005  Great American Ballpark  Progressive Field  Coors Field  ...   \n",
      "2006  Great American Ballpark  Progressive Field  Coors Field  ...   \n",
      "2007  Great American Ballpark  Progressive Field  Coors Field  ...   \n",
      "2008  Great American Ballpark  Progressive Field  Coors Field  ...   \n",
      "2009  Great American Ballpark  Progressive Field  Coors Field  ...   \n",
      "2010  Great American Ballpark  Progressive Field  Coors Field  ...   \n",
      "2011  Great American Ballpark  Progressive Field  Coors Field  ...   \n",
      "2012  Great American Ballpark  Progressive Field  Coors Field  ...   \n",
      "2013  Great American Ballpark  Progressive Field  Coors Field  ...   \n",
      "2014  Great American Ballpark  Progressive Field  Coors Field  ...   \n",
      "2015  Great American Ballpark  Progressive Field  Coors Field  ...   \n",
      "2016  Great American Ballpark  Progressive Field  Coors Field  ...   \n",
      "2017  Great American Ballpark  Progressive Field  Coors Field  ...   \n",
      "2018  Great American Ballpark  Progressive Field  Coors Field  ...   \n",
      "2019  Great American Ballpark  Progressive Field  Coors Field  ...   \n",
      "2020  Great American Ballpark  Progressive Field  Coors Field  ...   \n",
      "2021  Great American Ballpark  Progressive Field  Coors Field  ...   \n",
      "2022  Great American Ballpark  Progressive Field  Coors Field  ...   \n",
      "2023  Great American Ballpark  Progressive Field  Coors Field  ...   \n",
      "\n",
      "                     PHI                   PIT               SDN  \\\n",
      "2000    Veterans Stadium  Three Rivers Stadium  Qualcomm Stadium   \n",
      "2001    Veterans Stadium              PNC Park  Qualcomm Stadium   \n",
      "2002    Veterans Stadium              PNC Park  Qualcomm Stadium   \n",
      "2003    Veterans Stadium              PNC Park  Qualcomm Stadium   \n",
      "2004  Citizens Bank Park              PNC Park        Petco Park   \n",
      "2005  Citizens Bank Park              PNC Park        Petco Park   \n",
      "2006  Citizens Bank Park              PNC Park        Petco Park   \n",
      "2007  Citizens Bank Park              PNC Park        Petco Park   \n",
      "2008  Citizens Bank Park              PNC Park        Petco Park   \n",
      "2009  Citizens Bank Park              PNC Park        Petco Park   \n",
      "2010  Citizens Bank Park              PNC Park        Petco Park   \n",
      "2011  Citizens Bank Park              PNC Park        Petco Park   \n",
      "2012  Citizens Bank Park              PNC Park        Petco Park   \n",
      "2013  Citizens Bank Park              PNC Park        Petco Park   \n",
      "2014  Citizens Bank Park              PNC Park        Petco Park   \n",
      "2015  Citizens Bank Park              PNC Park        Petco Park   \n",
      "2016  Citizens Bank Park              PNC Park        Petco Park   \n",
      "2017  Citizens Bank Park              PNC Park        Petco Park   \n",
      "2018  Citizens Bank Park              PNC Park        Petco Park   \n",
      "2019  Citizens Bank Park              PNC Park        Petco Park   \n",
      "2020  Citizens Bank Park              PNC Park        Petco Park   \n",
      "2021  Citizens Bank Park              PNC Park        Petco Park   \n",
      "2022  Citizens Bank Park              PNC Park        Petco Park   \n",
      "2023  Citizens Bank Park              PNC Park        Petco Park   \n",
      "\n",
      "               SEA          SFN                SLN              TBA  \\\n",
      "2000  Safeco Field  Oracle Park   Busch Stadium II  Tropicana Field   \n",
      "2001  Safeco Field  Oracle Park   Busch Stadium II  Tropicana Field   \n",
      "2002  Safeco Field  Oracle Park   Busch Stadium II  Tropicana Field   \n",
      "2003  Safeco Field  Oracle Park   Busch Stadium II  Tropicana Field   \n",
      "2004  Safeco Field  Oracle Park   Busch Stadium II  Tropicana Field   \n",
      "2005  Safeco Field  Oracle Park   Busch Stadium II  Tropicana Field   \n",
      "2006  Safeco Field  Oracle Park  Busch Stadium III  Tropicana Field   \n",
      "2007  Safeco Field  Oracle Park  Busch Stadium III  Tropicana Field   \n",
      "2008  Safeco Field  Oracle Park  Busch Stadium III  Tropicana Field   \n",
      "2009  Safeco Field  Oracle Park  Busch Stadium III  Tropicana Field   \n",
      "2010  Safeco Field  Oracle Park  Busch Stadium III  Tropicana Field   \n",
      "2011  Safeco Field  Oracle Park  Busch Stadium III  Tropicana Field   \n",
      "2012  Safeco Field  Oracle Park  Busch Stadium III  Tropicana Field   \n",
      "2013  Safeco Field  Oracle Park  Busch Stadium III  Tropicana Field   \n",
      "2014  Safeco Field  Oracle Park  Busch Stadium III  Tropicana Field   \n",
      "2015  Safeco Field  Oracle Park  Busch Stadium III  Tropicana Field   \n",
      "2016  Safeco Field  Oracle Park  Busch Stadium III  Tropicana Field   \n",
      "2017  Safeco Field  Oracle Park  Busch Stadium III  Tropicana Field   \n",
      "2018  Safeco Field  Oracle Park  Busch Stadium III  Tropicana Field   \n",
      "2019  Safeco Field  Oracle Park  Busch Stadium III  Tropicana Field   \n",
      "2020  Safeco Field  Oracle Park  Busch Stadium III  Tropicana Field   \n",
      "2021  Safeco Field  Oracle Park  Busch Stadium III  Tropicana Field   \n",
      "2022  Safeco Field  Oracle Park  Busch Stadium III  Tropicana Field   \n",
      "2023  Safeco Field  Oracle Park  Busch Stadium III  Tropicana Field   \n",
      "\n",
      "                                TEX            TOR                        WAS  \n",
      "2000  Rangers Ballpark in Arlington  Rogers Centre                             \n",
      "2001  Rangers Ballpark in Arlington  Rogers Centre                             \n",
      "2002  Rangers Ballpark in Arlington  Rogers Centre                             \n",
      "2003  Rangers Ballpark in Arlington  Rogers Centre                             \n",
      "2004  Rangers Ballpark in Arlington  Rogers Centre                             \n",
      "2005  Rangers Ballpark in Arlington  Rogers Centre  Robert F. Kennedy Stadium  \n",
      "2006  Rangers Ballpark in Arlington  Rogers Centre  Robert F. Kennedy Stadium  \n",
      "2007  Rangers Ballpark in Arlington  Rogers Centre  Robert F. Kennedy Stadium  \n",
      "2008  Rangers Ballpark in Arlington  Rogers Centre             Nationals Park  \n",
      "2009  Rangers Ballpark in Arlington  Rogers Centre             Nationals Park  \n",
      "2010  Rangers Ballpark in Arlington  Rogers Centre             Nationals Park  \n",
      "2011  Rangers Ballpark in Arlington  Rogers Centre             Nationals Park  \n",
      "2012  Rangers Ballpark in Arlington  Rogers Centre             Nationals Park  \n",
      "2013  Rangers Ballpark in Arlington  Rogers Centre             Nationals Park  \n",
      "2014  Rangers Ballpark in Arlington  Rogers Centre             Nationals Park  \n",
      "2015  Rangers Ballpark in Arlington  Rogers Centre             Nationals Park  \n",
      "2016  Rangers Ballpark in Arlington  Rogers Centre             Nationals Park  \n",
      "2017  Rangers Ballpark in Arlington  Rogers Centre             Nationals Park  \n",
      "2018  Rangers Ballpark in Arlington  Rogers Centre             Nationals Park  \n",
      "2019  Rangers Ballpark in Arlington  Rogers Centre             Nationals Park  \n",
      "2020  Globe Life Field in Arlington   Sahlen Field             Nationals Park  \n",
      "2021  Globe Life Field in Arlington  Rogers Centre             Nationals Park  \n",
      "2022  Globe Life Field in Arlington  Rogers Centre             Nationals Park  \n",
      "2023  Globe Life Field in Arlington  Rogers Centre             Nationals Park  \n",
      "\n",
      "[24 rows x 32 columns]\n"
     ]
    },
    {
     "name": "stderr",
     "output_type": "stream",
     "text": [
      "\n"
     ]
    }
   ],
   "source": [
    "homes = pd.DataFrame(data=\"\", index=years, columns=teams)\n",
    "for ind in tqdm(df.index):\n",
    "    home_team = df.loc[ind, 'home_team']\n",
    "    yr = df.loc[ind, 'date'].year\n",
    "    venue = df.loc[ind, 'venue_name']\n",
    "    homes.loc[yr, home_team] = venue\n",
    "print(homes)"
   ]
  },
  {
   "cell_type": "code",
   "execution_count": 115,
   "id": "0d1ecbb3-3e6f-4ee7-ab4c-3cc20e28958c",
   "metadata": {},
   "outputs": [
    {
     "name": "stdout",
     "output_type": "stream",
     "text": [
      "[0, 1, 2, 3, 4, 5, 6, 7, 8, 9, 10, 11, 12, 13, 14, 15, 16, 17, 18, 19, 20, 21, 22, 23, 24, 25, 26, 27, 28, 29, 30, 31, 32, 33, 34, 35, 36, 37, 38, 39, 40, 41, 42, 43, 44, 45, 46, 47, 48, 49, 50, 51, 52, 53, 54, 55, 56, 57, 58, 59, 60, 61, 62, 63, 64, 65, 66, 67, 68, 69, 70, 71, 72, 73, 74, 75, 76, 77, 78, 79, 80, 81, 82, 83, 84, 85, 86, 87, 88, 89, 90, 91, 92, 93, 94, 95, 96, 97, 98, 99, 100, 101, 102, 103, 104, 105, 106, 107, 108, 109, 110, 111, 112, 113, 114, 115, 116, 117, 118, 119, 120, 121, 122, 123, 124, 125, 126, 127, 128, 129, 130, 131, 132, 133, 134, 135, 136, 137, 138, 139, 140, 141, 142, 143, 144, 145, 146, 147, 148, 149, 150, 151, 152, 153, 154, 155, 156, 157, 158, 159, 160, 161, 162, 163, 164, 165, 166, 167, 168, 169, 170, 171, 172, 173, 174, 175, 176, 177, 178, 179, 180, 181, 182, 183, 184, 185, 186, 187, 188, 189, 190, 191, 192, 193]\n",
      "[-1, 0, 1, 2, 3, 4, 5, 6, 7, 8, 9, 10, 11, 12, 13, 14, 15, 16, 17, 18, 19, 20, 21, 22, 23, 24, 25, 26, 27, 28, 29, 30, 31, 32, 33, 34, 35, 36, 37, 38, 39, 40, 41, 42, 43, 44, 45, 46, 47, 48, 49, 50, 51, 52, 53, 54, 55, 56, 57, 58, 59, 60, 61, 62, 63, 64, 65, 66, 67, 68, 69, 70, 71, 72, 73, 74, 75, 76, 77, 78, 79, 80, 81, 82, 83, 84, 85, 86, 87, 88, 89, 90, 91, 92, 93, 94, 95, 96, 97, 98, 99, 100, 101, 102, 103, 104, 105, 106, 107, 108, 109, 110, 111, 112, 113, 114, 115, 116, 117, 118, 119, 120, 121, 122, 123, 124, 125, 126, 127, 128, 129, 130, 131, 132, 133, 134, 135, 136, 137, 138, 139, 140, 141, 142, 143, 144, 145, 146, 147, 148, 149, 150, 151, 152, 153, 154, 155, 156, 157, 158, 159, 160, 161, 162, 163, 164, 165, 166, 167, 168, 169, 170, 171, 172, 173, 174, 175, 176, 177, 178, 179, 180, 181, 182, 183, 184, 185, 186, 187, 188, 189, 190, 191, 192, 193, 194]\n"
     ]
    }
   ],
   "source": [
    "days = list(np.arange(0, df['day'].max()+1, 1))\n",
    "print(days)\n",
    "\n",
    "extended_days = [-1] + list(days) + [days[-1]+1]\n",
    "print(extended_days)"
   ]
  },
  {
   "cell_type": "code",
   "execution_count": 183,
   "id": "24e1677b-8b26-4035-99a7-605f2abfea06",
   "metadata": {},
   "outputs": [],
   "source": [
    "location = {team:\n",
    "                {year:\n",
    "                    {day:\n",
    "                         {'home': 0,\n",
    "                          'away': 0,\n",
    "                          'travel': 0,\n",
    "                          'miles': 0,\n",
    "                          'venue': None,\n",
    "                          'won': 0,\n",
    "                          'odds': -1}\n",
    "                     for day in extended_days\n",
    "                    }\n",
    "                for year in years\n",
    "                }\n",
    "            for team in teams\n",
    "            }\n",
    "\n",
    "for team in teams:\n",
    "    for yr in years:\n",
    "        home_venue = homes.loc[yr, team]\n",
    "        if home_venue is None:\n",
    "            print(team, yr)\n",
    "            del location[team][yr]\n",
    "        else:\n",
    "            location[team][yr][-1]['venue'] = home_venue\n",
    "            location[team][yr][days[-1]+1]['venue'] = home_venue"
   ]
  },
  {
   "cell_type": "code",
   "execution_count": 184,
   "id": "48402404-1d67-45bd-b5ce-1d288c94b737",
   "metadata": {},
   "outputs": [
    {
     "name": "stderr",
     "output_type": "stream",
     "text": [
      "100%|█| 56775/56775 [\n"
     ]
    }
   ],
   "source": [
    "for ind in tqdm(df.index):\n",
    "    home_team = df.loc[ind, 'home_team']\n",
    "    away_team = df.loc[ind, 'away_team']\n",
    "    home_score = df.loc[ind, 'home_score']\n",
    "    away_score = df.loc[ind, 'away_score']\n",
    "    yr = df.loc[ind, 'date'].year\n",
    "    day = df.loc[ind, 'day']\n",
    "    venue = df.loc[ind, 'venue_name']\n",
    "    location[home_team][yr][day]['home'] = 1\n",
    "    location[away_team][yr][day]['away'] = 1    \n",
    "    location[home_team][yr][day]['venue'] = venue\n",
    "    location[away_team][yr][day]['venue'] = venue\n",
    "    if home_score == away_score:\n",
    "        location[home_team][yr][day]['won'] = 0.5\n",
    "        location[away_team][yr][day]['won'] = 0.5\n",
    "    elif home_score > away_score:\n",
    "        location[home_team][yr][day]['won'] = 1\n",
    "    else:\n",
    "        location[away_team][yr][day]['won'] = 1"
   ]
  },
  {
   "cell_type": "code",
   "execution_count": 185,
   "id": "d6006713-cd35-4898-ab9e-fbff69a3679b",
   "metadata": {},
   "outputs": [],
   "source": [
    "for team in teams:\n",
    "    for yr in years:\n",
    "        for day in reversed(days):\n",
    "            if location[team][yr][day]['venue'] is None:\n",
    "                location[team][yr][day]['venue'] = location[team][yr][day+1]['venue']\n",
    "        for day in extended_days[1:]:\n",
    "            yesterday_venue = location[team][yr][day-1]['venue']\n",
    "            today_venue = location[team][yr][day]['venue']\n",
    "            if yesterday_venue != today_venue:\n",
    "                location[team][yr][day]['travel'] = 1\n",
    "                location[team][yr][day]['miles'] = geodist(venue_df.loc[yesterday_venue].tolist(), venue_df.loc[today_venue].tolist()).miles\n",
    "        if sum([location[team][yr][dummy_day]['won'] for dummy_day in days]) == 0:\n",
    "            del location[team][yr]"
   ]
  },
  {
   "cell_type": "code",
   "execution_count": 221,
   "id": "bb255056-d504-41d1-bef8-65afeb0e8cfd",
   "metadata": {},
   "outputs": [],
   "source": [
    "MAX_DELAY = 14\n",
    "\n",
    "var_names = ['win', 'baseline_odds'] + [f'{var}{delay}' for var, delay in itr.product(['home', 'away', 'travel', 'miles'], range(MAX_DELAY))]\n",
    "\n",
    "ind_names = []\n",
    "for team in teams:\n",
    "    for yr in location[team].keys():\n",
    "        for day in days:\n",
    "            ind_names.append(f'{team}{yr}{day}')"
   ]
  },
  {
   "cell_type": "code",
   "execution_count": 222,
   "id": "e69ea3c8-e9d6-4608-a1ac-a32beac71ef7",
   "metadata": {},
   "outputs": [
    {
     "name": "stderr",
     "output_type": "stream",
     "text": [
      "100%|█| 32/32 [00:04<\n"
     ]
    },
    {
     "name": "stdout",
     "output_type": "stream",
     "text": [
      "           won  baseline_odds  home0  away0  travel0       miles0  home1  \\\n",
      "ANA200013  1.0           -1.0    1.0    0.0      0.0     0.000000    1.0   \n",
      "ANA200014  0.0           -1.0    1.0    0.0      0.0     0.000000    1.0   \n",
      "ANA200015  0.0           -1.0    0.0    0.0      1.0  1734.576143    1.0   \n",
      "ANA200016  0.0           -1.0    0.0    1.0      0.0     0.000000    0.0   \n",
      "ANA200017  1.0           -1.0    0.0    1.0      0.0     0.000000    0.0   \n",
      "ANA200018  1.0           -1.0    0.0    1.0      0.0     0.000000    0.0   \n",
      "ANA200019  0.0           -1.0    0.0    1.0      1.0   441.403955    0.0   \n",
      "ANA200020  1.0           -1.0    0.0    1.0      0.0     0.000000    0.0   \n",
      "ANA200021  0.0           -1.0    0.0    1.0      0.0     0.000000    0.0   \n",
      "ANA200022  0.0           -1.0    0.0    1.0      0.0     0.000000    0.0   \n",
      "ANA200023  1.0           -1.0    0.0    1.0      1.0  1093.319254    0.0   \n",
      "ANA200024  0.0           -1.0    0.0    1.0      0.0     0.000000    0.0   \n",
      "ANA200025  0.0           -1.0    0.0    1.0      0.0     0.000000    0.0   \n",
      "ANA200026  1.0           -1.0    1.0    0.0      1.0  2125.402319    0.0   \n",
      "ANA200027  0.0           -1.0    1.0    0.0      0.0     0.000000    1.0   \n",
      "ANA200028  1.0           -1.0    1.0    0.0      0.0     0.000000    1.0   \n",
      "ANA200029  0.0           -1.0    1.0    0.0      0.0     0.000000    1.0   \n",
      "ANA200030  0.0           -1.0    1.0    0.0      0.0     0.000000    1.0   \n",
      "ANA200031  1.0           -1.0    1.0    0.0      0.0     0.000000    1.0   \n",
      "ANA200032  1.0           -1.0    1.0    0.0      0.0     0.000000    1.0   \n",
      "\n",
      "           away1  travel1       miles1  ...  travel11      miles11  home12  \\\n",
      "ANA200013    0.0      0.0     0.000000  ...       0.0     0.000000     0.0   \n",
      "ANA200014    0.0      0.0     0.000000  ...       0.0     0.000000     0.0   \n",
      "ANA200015    0.0      0.0     0.000000  ...       0.0     0.000000     0.0   \n",
      "ANA200016    0.0      1.0  1734.576143  ...       0.0     0.000000     0.0   \n",
      "ANA200017    1.0      0.0     0.000000  ...       0.0     0.000000     1.0   \n",
      "ANA200018    1.0      0.0     0.000000  ...       0.0     0.000000     1.0   \n",
      "ANA200019    1.0      0.0     0.000000  ...       0.0     0.000000     1.0   \n",
      "ANA200020    1.0      1.0   441.403955  ...       0.0     0.000000     0.0   \n",
      "ANA200021    1.0      0.0     0.000000  ...       0.0     0.000000     1.0   \n",
      "ANA200022    1.0      0.0     0.000000  ...       0.0     0.000000     1.0   \n",
      "ANA200023    1.0      0.0     0.000000  ...       0.0     0.000000     1.0   \n",
      "ANA200024    1.0      1.0  1093.319254  ...       0.0     0.000000     1.0   \n",
      "ANA200025    1.0      0.0     0.000000  ...       0.0     0.000000     1.0   \n",
      "ANA200026    1.0      0.0     0.000000  ...       1.0  1734.576143     1.0   \n",
      "ANA200027    0.0      1.0  2125.402319  ...       0.0     0.000000     0.0   \n",
      "ANA200028    0.0      0.0     0.000000  ...       0.0     0.000000     0.0   \n",
      "ANA200029    0.0      0.0     0.000000  ...       0.0     0.000000     0.0   \n",
      "ANA200030    0.0      0.0     0.000000  ...       1.0   441.403955     0.0   \n",
      "ANA200031    0.0      0.0     0.000000  ...       0.0     0.000000     0.0   \n",
      "ANA200032    0.0      0.0     0.000000  ...       0.0     0.000000     0.0   \n",
      "\n",
      "           away12  travel12      miles12  home13  away13  travel13  \\\n",
      "ANA200013     0.0       0.0     0.000000     0.0     0.0       0.0   \n",
      "ANA200014     0.0       0.0     0.000000     0.0     0.0       0.0   \n",
      "ANA200015     0.0       0.0     0.000000     0.0     0.0       0.0   \n",
      "ANA200016     0.0       0.0     0.000000     0.0     0.0       0.0   \n",
      "ANA200017     0.0       0.0     0.000000     0.0     0.0       0.0   \n",
      "ANA200018     0.0       0.0     0.000000     1.0     0.0       0.0   \n",
      "ANA200019     0.0       0.0     0.000000     1.0     0.0       0.0   \n",
      "ANA200020     0.0       0.0     0.000000     1.0     0.0       0.0   \n",
      "ANA200021     0.0       0.0     0.000000     0.0     0.0       0.0   \n",
      "ANA200022     0.0       0.0     0.000000     1.0     0.0       0.0   \n",
      "ANA200023     0.0       0.0     0.000000     1.0     0.0       0.0   \n",
      "ANA200024     0.0       0.0     0.000000     1.0     0.0       0.0   \n",
      "ANA200025     0.0       0.0     0.000000     1.0     0.0       0.0   \n",
      "ANA200026     0.0       0.0     0.000000     1.0     0.0       0.0   \n",
      "ANA200027     0.0       1.0  1734.576143     1.0     0.0       0.0   \n",
      "ANA200028     1.0       0.0     0.000000     0.0     0.0       1.0   \n",
      "ANA200029     1.0       0.0     0.000000     0.0     1.0       0.0   \n",
      "ANA200030     1.0       0.0     0.000000     0.0     1.0       0.0   \n",
      "ANA200031     1.0       1.0   441.403955     0.0     1.0       0.0   \n",
      "ANA200032     1.0       0.0     0.000000     0.0     1.0       1.0   \n",
      "\n",
      "               miles13  \n",
      "ANA200013     0.000000  \n",
      "ANA200014     0.000000  \n",
      "ANA200015     0.000000  \n",
      "ANA200016     0.000000  \n",
      "ANA200017     0.000000  \n",
      "ANA200018     0.000000  \n",
      "ANA200019     0.000000  \n",
      "ANA200020     0.000000  \n",
      "ANA200021     0.000000  \n",
      "ANA200022     0.000000  \n",
      "ANA200023     0.000000  \n",
      "ANA200024     0.000000  \n",
      "ANA200025     0.000000  \n",
      "ANA200026     0.000000  \n",
      "ANA200027     0.000000  \n",
      "ANA200028  1734.576143  \n",
      "ANA200029     0.000000  \n",
      "ANA200030     0.000000  \n",
      "ANA200031     0.000000  \n",
      "ANA200032   441.403955  \n",
      "\n",
      "[20 rows x 58 columns]\n",
      "(130320, 58)\n"
     ]
    }
   ],
   "source": [
    "ml_dict = {ind: {} for ind in ind_names}\n",
    "for team in tqdm(teams):\n",
    "    for yr in location[team].keys():\n",
    "        for day in days:\n",
    "            ind = f'{team}{yr}{day}'\n",
    "            ml_dict[ind]['won'] = location[team][yr][day]['won']\n",
    "            ml_dict[ind]['baseline_odds'] = location[team][yr][day]['odds']\n",
    "            for delay_day in range(day, min(day + MAX_DELAY, days[-1]+1)):\n",
    "                delay_ind = f'{team}{yr}{delay_day}'\n",
    "                for var in ['home', 'away', 'travel', 'miles']:\n",
    "                    var_name = f'{var}{delay_day-day}'\n",
    "                    ml_dict[delay_ind][var_name] = location[team][yr][day][var]\n",
    "ml_df = pd.DataFrame(ml_dict).transpose()\n",
    "ml_df = ml_df[ml_df['won'].notna()].dropna()\n",
    "print(ml_df.iloc[:20, ])\n",
    "print(ml_df.shape)"
   ]
  },
  {
   "cell_type": "code",
   "execution_count": 223,
   "id": "79d0bd9d-fbb8-4e0f-9da6-f2a129d4836e",
   "metadata": {},
   "outputs": [],
   "source": [
    "ml_df.to_csv('.data/logregression_data.csv')"
   ]
  }
 ],
 "metadata": {
  "kernelspec": {
   "display_name": ".venv_datathon2024",
   "language": "python",
   "name": ".venv_datathon2024"
  },
  "language_info": {
   "codemirror_mode": {
    "name": "ipython",
    "version": 3
   },
   "file_extension": ".py",
   "mimetype": "text/x-python",
   "name": "python",
   "nbconvert_exporter": "python",
   "pygments_lexer": "ipython3",
   "version": "3.11.6"
  }
 },
 "nbformat": 4,
 "nbformat_minor": 5
}
