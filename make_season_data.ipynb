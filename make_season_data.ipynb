{
 "cells": [
  {
   "cell_type": "code",
   "execution_count": 157,
   "id": "c689c691-08d1-42cf-9331-971dc5f492f2",
   "metadata": {},
   "outputs": [],
   "source": [
    "import numpy as np\n",
    "import pandas as pd\n",
    "from geopy.distance import distance as geodist\n",
    "from tqdm import tqdm\n",
    "import itertools as itr\n",
    "import matplotlib.pyplot as plt\n",
    "import seaborn as sns"
   ]
  },
  {
   "cell_type": "code",
   "execution_count": 2,
   "id": "262561d6-0c9e-4759-870c-d917ad8fbc31",
   "metadata": {},
   "outputs": [
    {
     "name": "stdout",
     "output_type": "stream",
     "text": [
      "   Unnamed: 0  game_date home_team away_team  is_day_game  home_score  \\\n",
      "0           0   20000329       NYN       CHN        False           3   \n",
      "1           1   20000330       CHN       NYN        False           1   \n",
      "2           2   20000403       ATL       COL         True           2   \n",
      "3           3   20000403       CIN       MIL         True           3   \n",
      "4           4   20000403       FLO       SFN        False           6   \n",
      "\n",
      "   away_score  venue        venue_name        city  ... home_pa  home_1b  \\\n",
      "0           5  TOK01        Tokyo Dome       Tokyo  ...      38        5   \n",
      "1           5  TOK01        Tokyo Dome       Tokyo  ...      44        5   \n",
      "2           0  ATL02      Turner Field     Atlanta  ...      32        5   \n",
      "3           3  CIN08     Cinergy Field  Cincinnati  ...      20        3   \n",
      "4           4  MIA01  Sun Life Stadium       Miami  ...      38        9   \n",
      "\n",
      "   home_2b  home_3b  home_hr  home_fo  home_so  home_bb  home_hbp       date  \n",
      "0        1        0        1       24        4        3         0 2000-03-29  \n",
      "1        0        0        0       24        9        6         0 2000-03-30  \n",
      "2        0        0        2       17        6        1         1 2000-04-03  \n",
      "3        1        0        1       10        4        1         0 2000-04-03  \n",
      "4        3        0        0       17        7        1         1 2000-04-03  \n",
      "\n",
      "[5 rows x 30 columns]\n"
     ]
    }
   ],
   "source": [
    "df = pd.read_csv('.data/datathon_2024_dataset_corrected.csv')\n",
    "df[\"date\"] = pd.to_datetime(df[\"game_date\"], format='%Y%m%d')\n",
    "print(df.head())"
   ]
  },
  {
   "cell_type": "code",
   "execution_count": 3,
   "id": "863947f7-dc33-4a09-9431-0566df993a4c",
   "metadata": {},
   "outputs": [
    {
     "name": "stdout",
     "output_type": "stream",
     "text": [
      "        date home_team away_team  is_day_game  home_score  away_score  \\\n",
      "0 2000-03-29       NYN       CHN        False           3           5   \n",
      "1 2000-03-30       CHN       NYN        False           1           5   \n",
      "2 2000-04-03       ATL       COL         True           2           0   \n",
      "3 2000-04-03       CIN       MIL         True           3           3   \n",
      "4 2000-04-03       FLO       SFN        False           6           4   \n",
      "\n",
      "         venue_name  \n",
      "0        Tokyo Dome  \n",
      "1        Tokyo Dome  \n",
      "2      Turner Field  \n",
      "3     Cinergy Field  \n",
      "4  Sun Life Stadium  \n"
     ]
    }
   ],
   "source": [
    "df = df[['date', 'home_team', 'away_team', 'is_day_game', 'home_score', 'away_score', 'venue_name']]\n",
    "print(df.head())"
   ]
  },
  {
   "cell_type": "code",
   "execution_count": 129,
   "id": "973d6336-74a6-402d-a5cf-6db5e7e57098",
   "metadata": {},
   "outputs": [
    {
     "name": "stdout",
     "output_type": "stream",
     "text": [
      "                     lat     long\n",
      "venue_name                       \n",
      "Tokyo Dome        35.705  139.752\n",
      "Turner Field      33.735  -84.389\n",
      "Cinergy Field     39.548  -84.303\n",
      "Sun Life Stadium  25.959  -80.240\n",
      "Stade Olympique   45.558  -73.552\n"
     ]
    }
   ],
   "source": [
    "venue_df = pd.read_csv('.data/venue.csv', index_col='venue_name')\n",
    "print(venue_df.head())"
   ]
  },
  {
   "cell_type": "code",
   "execution_count": 4,
   "id": "2a20b238-cb26-4028-a316-5b9766f7c14b",
   "metadata": {},
   "outputs": [
    {
     "name": "stdout",
     "output_type": "stream",
     "text": [
      "[2000 2001 2002 2003 2004 2005 2006 2007 2008 2009 2010 2011 2012 2013\n",
      " 2014 2015 2016 2017 2018 2019 2020 2021 2022 2023]\n"
     ]
    }
   ],
   "source": [
    "years = df['date'].dt.year.unique()\n",
    "years.sort()\n",
    "print(years)"
   ]
  },
  {
   "cell_type": "code",
   "execution_count": 5,
   "id": "0e00bc25-238f-4eb0-889c-cbfbfc264c70",
   "metadata": {},
   "outputs": [
    {
     "name": "stdout",
     "output_type": "stream",
     "text": [
      "['ANA' 'ARI' 'ATL' 'BAL' 'BOS' 'CHA' 'CHN' 'CIN' 'CLE' 'COL' 'DET' 'FLO'\n",
      " 'HOU' 'KCA' 'LAN' 'MIA' 'MIL' 'MIN' 'MON' 'NYA' 'NYN' 'OAK' 'PHI' 'PIT'\n",
      " 'SDN' 'SEA' 'SFN' 'SLN' 'TBA' 'TEX' 'TOR' 'WAS']\n"
     ]
    }
   ],
   "source": [
    "teams = df['home_team'].unique()\n",
    "teams.sort()\n",
    "print(teams)"
   ]
  },
  {
   "cell_type": "code",
   "execution_count": 6,
   "id": "190909cb-51a5-46cd-8b45-41d010ec56ca",
   "metadata": {},
   "outputs": [],
   "source": [
    "runs_score = pd.DataFrame(data=0, index=years, columns=teams)\n",
    "runs_allow = pd.DataFrame(data=0, index=years, columns=teams)\n",
    "n_games = pd.DataFrame(data=0, index=years, columns=teams)"
   ]
  },
  {
   "cell_type": "code",
   "execution_count": 7,
   "id": "78395236-8632-48f2-8d81-3ee50806a4b8",
   "metadata": {},
   "outputs": [
    {
     "name": "stderr",
     "output_type": "stream",
     "text": [
      "100%|█| 56775/56775 [\n"
     ]
    }
   ],
   "source": [
    "for ind in tqdm(df.index):\n",
    "    home_team = df.loc[ind, 'home_team']\n",
    "    away_team = df.loc[ind, 'away_team']\n",
    "    home_runs = df.loc[ind, 'home_score']\n",
    "    away_runs = df.loc[ind, 'away_score']\n",
    "    yr = df.loc[ind, 'date'].year\n",
    "\n",
    "    runs_score.loc[yr, home_team] += home_runs\n",
    "    runs_score.loc[yr, away_team] += away_runs\n",
    "    \n",
    "    runs_allow.loc[yr, home_team] += away_runs\n",
    "    runs_allow.loc[yr, away_team] += home_runs\n",
    "\n",
    "    n_games.loc[yr, home_team] += 1\n",
    "    n_games.loc[yr, away_team] += 1"
   ]
  },
  {
   "cell_type": "code",
   "execution_count": 8,
   "id": "17974db2-9dd2-46cd-b510-f1e14571794e",
   "metadata": {},
   "outputs": [
    {
     "name": "stdout",
     "output_type": "stream",
     "text": [
      "           ANA       ARI       ATL       BAL       BOS       CHA       CHN  \\\n",
      "2000  0.497152  0.523468  0.559723  0.431799  0.529139  0.576102  0.418589   \n",
      "2001  0.474424  0.588558  0.557681  0.411695  0.516936  0.501815  0.548383   \n",
      "2002  0.628879  0.591116  0.600708  0.431408  0.619417  0.534116  0.466007   \n",
      "2003  0.495536  0.521192  0.597707  0.452974  0.584673  0.547743  0.527076   \n",
      "2004  0.562105  0.327163  0.585816  0.507012  0.602689  0.519659  0.579561   \n",
      "2005  0.577651  0.402326  0.561438  0.455864  0.560040  0.563878  0.492768   \n",
      "2006  0.521478  0.490796  0.525893  0.423728  0.497044  0.543347  0.427591   \n",
      "2007  0.555880  0.487027  0.547541  0.433470  0.628956  0.409914  0.540199   \n",
      "2008  0.543646  0.509163  0.484448  0.448743  0.592822  0.550595  0.613511   \n",
      "2009  0.571788  0.460949  0.562879  0.419721  0.581185  0.494841  0.523493   \n",
      "2010  0.485953  0.424522  0.573157  0.387204  0.545301  0.530928  0.447154   \n",
      "2011  0.523760  0.545834  0.525928  0.407792  0.582219  0.464834  0.432983   \n",
      "2012  0.543562  0.530144  0.569603  0.504603  0.455472  0.547076  0.402652   \n",
      "2013  0.497438  0.493300  0.600524  0.523228  0.622048  0.414192  0.439079   \n",
      "2014  0.593896  0.414474  0.481916  0.577950  0.444997  0.435848  0.435961   \n",
      "2015  0.490401  0.504566  0.373521  0.513222  0.496845  0.445601  0.556559   \n",
      "2016  0.493513  0.418843  0.415425  0.518669  0.610992  0.480783  0.665735   \n",
      "2017  0.500657  0.597062  0.445341  0.440688  0.575157  0.429245  0.579060   \n",
      "2018  0.499351  0.533546  0.566816  0.335213  0.640254  0.380688  0.576140   \n",
      "2019  0.441468  0.542979  0.567294  0.358033  0.541578  0.423468  0.560145   \n",
      "2020  0.457268  0.456233  0.592095  0.466477  0.410109  0.601720  0.545529   \n",
      "2021  0.449629  0.371461  0.586375  0.327442  0.548605  0.603344  0.417670   \n",
      "2022  0.468409  0.475338  0.617905  0.490532  0.467541  0.479480  0.450734   \n",
      "2023  0.445106  0.490562  0.633102  0.581506  0.497531  0.374586  0.559228   \n",
      "\n",
      "           CIN       CLE       COL  ...       PHI       PIT       SDN  \\\n",
      "2000  0.536230  0.574885  0.538323  ...  0.424751  0.444865  0.461499   \n",
      "2001  0.430520  0.543478  0.509317  ...  0.517331  0.375891  0.486140   \n",
      "2002  0.458694  0.440474  0.430334  ...  0.490857  0.440184  0.403215   \n",
      "2003  0.384716  0.449692  0.477905  ...  0.559486  0.470474  0.404661   \n",
      "2004  0.408433  0.500574  0.449345  ...  0.535204  0.458062  0.540232   \n",
      "2005  0.460436  0.595736  0.426887  ...  0.550231  0.442586  0.472306   \n",
      "2006  0.467959  0.551729  0.500596  ...  0.530876  0.432982  0.534274   \n",
      "2007  0.458526  0.566790  0.560688  ...  0.540711  0.425838  0.549362   \n",
      "2008  0.439715  0.526922  0.454235  ...  0.575476  0.411595  0.416377   \n",
      "2009  0.466807  0.445605  0.555524  ...  0.568814  0.413111  0.414039   \n",
      "2010  0.566805  0.429957  0.533635  ...  0.586392  0.325228  0.560333   \n",
      "2011  0.509678  0.464070  0.475495  ...  0.630781  0.429856  0.486709   \n",
      "2012  0.557830  0.389581  0.422529  ...  0.502703  0.484139  0.460134   \n",
      "2013  0.576343  0.554695  0.465384  ...  0.406618  0.541854  0.443396   \n",
      "2014  0.487469  0.511053  0.461604  ...  0.452710  0.535365  0.467206   \n",
      "2015  0.424573  0.520205  0.435196  ...  0.382345  0.570562  0.445904   \n",
      "2016  0.416237  0.565083  0.491357  ...  0.378758  0.481582  0.445978   \n",
      "2017  0.431056  0.665496  0.540679  ...  0.441323  0.458266  0.363331   \n",
      "2018  0.423330  0.607873  0.521791  ...  0.466299  0.499330  0.400644   \n",
      "2019  0.493408  0.572938  0.431936  ...  0.487767  0.411180  0.431803   \n",
      "2020  0.500000  0.576009  0.379920  ...  0.492091  0.360888  0.638632   \n",
      "2021  0.516062  0.493513  0.464579  ...  0.492985  0.357417  0.513668   \n",
      "2022  0.393836  0.543900  0.394268  ...  0.540399  0.353814  0.530362   \n",
      "2023  0.477139  0.476303  0.364963  ...  0.550749  0.437823  0.568664   \n",
      "\n",
      "           SEA       SFN       SLN       TBA       TEX       TOR       WAS  \n",
      "2000  0.573348  0.602918  0.567882  0.433701  0.431078  0.473636       NaN  \n",
      "2001  0.678780  0.531469  0.581627  0.370135  0.457799  0.508755       NaN  \n",
      "2002  0.571802  0.609538  0.589875  0.354545  0.477723  0.491118       NaN  \n",
      "2003  0.602079  0.577565  0.546648  0.416724  0.421059  0.538883       NaN  \n",
      "2004  0.422315  0.547706  0.621167  0.421602  0.538808  0.435762       NaN  \n",
      "2005  0.466402  0.436382  0.609913  0.393185  0.504004  0.544536  0.476395  \n",
      "2006  0.477786  0.472657  0.511776  0.397814  0.530466  0.533685  0.425045  \n",
      "2007  0.488580  0.475513  0.436226  0.408235  0.483558  0.534853  0.429398  \n",
      "2008  0.411518  0.421501  0.533992  0.566504  0.464409  0.571430  0.383268  \n",
      "2009  0.464310  0.532707  0.560409  0.530099  0.527448  0.516505  0.401353  \n",
      "2010  0.366205  0.580112  0.563510  0.597999  0.563680  0.517181  0.442395  \n",
      "2011  0.414087  0.493888  0.545101  0.564039  0.609410  0.488658  0.486448  \n",
      "2012  0.477261  0.546452  0.576653  0.584554  0.563074  0.457143  0.593715  \n",
      "2013  0.413425  0.457193  0.623531  0.536720  0.563094  0.471811  0.521177  \n",
      "2014  0.559454  0.536032  0.511690  0.490584  0.410941  0.524413  0.593904  \n",
      "2015  0.453242  0.547544  0.591148  0.501409  0.511451  0.633245  0.546484  \n",
      "2016  0.538921  0.557118  0.542410  0.472618  0.504999  0.560691  0.600464  \n",
      "2017  0.486256  0.410519  0.535895  0.493361  0.489818  0.442096  0.592439  \n",
      "2018  0.477323  0.433230  0.543903  0.547245  0.432915  0.424245  0.557301  \n",
      "2019  0.420891  0.438803  0.566484  0.573619  0.460594  0.437443  0.589260  \n",
      "2020  0.417178  0.503243  0.521356  0.606352  0.349507  0.484130  0.487000  \n",
      "2021  0.466965  0.636896  0.522794  0.627508  0.378267  0.613601  0.440827  \n",
      "2022  0.546421  0.512516  0.588459  0.536716  0.476727  0.561746  0.341632  \n",
      "2023  0.564834  0.470074  0.432393  0.619960  0.598670  0.549201  0.411052  \n",
      "\n",
      "[24 rows x 32 columns]\n"
     ]
    }
   ],
   "source": [
    "# Pythagenpat\n",
    "exponent = ((runs_score + runs_allow) / n_games) ** 0.287\n",
    "baseline_winrate = 1 / (1 + (runs_allow / runs_score) ** exponent)\n",
    "print(baseline_winrate)"
   ]
  },
  {
   "cell_type": "code",
   "execution_count": 9,
   "id": "8344199b-386a-45ec-87ef-ec656fac1b2e",
   "metadata": {},
   "outputs": [
    {
     "name": "stderr",
     "output_type": "stream",
     "text": [
      "100%|█| 56775/56775 ["
     ]
    },
    {
     "name": "stdout",
     "output_type": "stream",
     "text": [
      "        date home_team away_team  is_day_game  home_score  away_score  \\\n",
      "0 2000-03-29       NYN       CHN        False           3           5   \n",
      "1 2000-03-30       CHN       NYN        False           1           5   \n",
      "2 2000-04-03       ATL       COL         True           2           0   \n",
      "3 2000-04-03       CIN       MIL         True           3           3   \n",
      "4 2000-04-03       FLO       SFN        False           6           4   \n",
      "\n",
      "         venue_name  day  \n",
      "0        Tokyo Dome    0  \n",
      "1        Tokyo Dome    1  \n",
      "2      Turner Field    5  \n",
      "3     Cinergy Field    5  \n",
      "4  Sun Life Stadium    5  \n"
     ]
    },
    {
     "name": "stderr",
     "output_type": "stream",
     "text": [
      "\n"
     ]
    }
   ],
   "source": [
    "opening_day = {yr : df['date'][df['date'].dt.year == yr].min() for yr in years}\n",
    "\n",
    "df['day'] = 0\n",
    "for ind in tqdm(df.index):\n",
    "    df.loc[ind, 'day'] = (df.loc[ind, 'date'] - opening_day[df.loc[ind, 'date'].year]).days\n",
    "\n",
    "print(df.head())"
   ]
  },
  {
   "cell_type": "code",
   "execution_count": 95,
   "id": "c37c4d8f-7bf2-495d-99eb-3c6823248f43",
   "metadata": {},
   "outputs": [
    {
     "name": "stderr",
     "output_type": "stream",
     "text": [
      "100%|█| 56775/56775 ["
     ]
    },
    {
     "name": "stdout",
     "output_type": "stream",
     "text": [
      "                           ANA          ARI           ATL  \\\n",
      "2000  Angel Stadium of Anaheim  Chase Field  Turner Field   \n",
      "2001  Angel Stadium of Anaheim  Chase Field  Turner Field   \n",
      "2002  Angel Stadium of Anaheim  Chase Field  Turner Field   \n",
      "2003  Angel Stadium of Anaheim  Chase Field  Turner Field   \n",
      "2004  Angel Stadium of Anaheim  Chase Field  Turner Field   \n",
      "2005  Angel Stadium of Anaheim  Chase Field  Turner Field   \n",
      "2006  Angel Stadium of Anaheim  Chase Field  Turner Field   \n",
      "2007  Angel Stadium of Anaheim  Chase Field  Turner Field   \n",
      "2008  Angel Stadium of Anaheim  Chase Field  Turner Field   \n",
      "2009  Angel Stadium of Anaheim  Chase Field  Turner Field   \n",
      "2010  Angel Stadium of Anaheim  Chase Field  Turner Field   \n",
      "2011  Angel Stadium of Anaheim  Chase Field  Turner Field   \n",
      "2012  Angel Stadium of Anaheim  Chase Field  Turner Field   \n",
      "2013  Angel Stadium of Anaheim  Chase Field  Turner Field   \n",
      "2014  Angel Stadium of Anaheim  Chase Field  Turner Field   \n",
      "2015  Angel Stadium of Anaheim  Chase Field  Turner Field   \n",
      "2016  Angel Stadium of Anaheim  Chase Field  Turner Field   \n",
      "2017  Angel Stadium of Anaheim  Chase Field   Truist Park   \n",
      "2018  Angel Stadium of Anaheim  Chase Field   Truist Park   \n",
      "2019  Angel Stadium of Anaheim  Chase Field   Truist Park   \n",
      "2020  Angel Stadium of Anaheim  Chase Field   Truist Park   \n",
      "2021  Angel Stadium of Anaheim  Chase Field   Truist Park   \n",
      "2022  Angel Stadium of Anaheim  Chase Field   Truist Park   \n",
      "2023  Angel Stadium of Anaheim  Chase Field   Truist Park   \n",
      "\n",
      "                              BAL          BOS  \\\n",
      "2000  Oriole Park at Camden Yards  Fenway Park   \n",
      "2001  Oriole Park at Camden Yards  Fenway Park   \n",
      "2002  Oriole Park at Camden Yards  Fenway Park   \n",
      "2003  Oriole Park at Camden Yards  Fenway Park   \n",
      "2004  Oriole Park at Camden Yards  Fenway Park   \n",
      "2005  Oriole Park at Camden Yards  Fenway Park   \n",
      "2006  Oriole Park at Camden Yards  Fenway Park   \n",
      "2007  Oriole Park at Camden Yards  Fenway Park   \n",
      "2008  Oriole Park at Camden Yards  Fenway Park   \n",
      "2009  Oriole Park at Camden Yards  Fenway Park   \n",
      "2010  Oriole Park at Camden Yards  Fenway Park   \n",
      "2011  Oriole Park at Camden Yards  Fenway Park   \n",
      "2012  Oriole Park at Camden Yards  Fenway Park   \n",
      "2013  Oriole Park at Camden Yards  Fenway Park   \n",
      "2014  Oriole Park at Camden Yards  Fenway Park   \n",
      "2015  Oriole Park at Camden Yards  Fenway Park   \n",
      "2016  Oriole Park at Camden Yards  Fenway Park   \n",
      "2017  Oriole Park at Camden Yards  Fenway Park   \n",
      "2018  Oriole Park at Camden Yards  Fenway Park   \n",
      "2019  Oriole Park at Camden Yards  Fenway Park   \n",
      "2020  Oriole Park at Camden Yards  Fenway Park   \n",
      "2021  Oriole Park at Camden Yards  Fenway Park   \n",
      "2022  Oriole Park at Camden Yards  Fenway Park   \n",
      "2023  Oriole Park at Camden Yards  Fenway Park   \n",
      "\n",
      "                                            CHA            CHN  \\\n",
      "2000  Guaranteed Rate Field;U.S. Cellular Field  Wrigley Field   \n",
      "2001  Guaranteed Rate Field;U.S. Cellular Field  Wrigley Field   \n",
      "2002  Guaranteed Rate Field;U.S. Cellular Field  Wrigley Field   \n",
      "2003  Guaranteed Rate Field;U.S. Cellular Field  Wrigley Field   \n",
      "2004  Guaranteed Rate Field;U.S. Cellular Field  Wrigley Field   \n",
      "2005  Guaranteed Rate Field;U.S. Cellular Field  Wrigley Field   \n",
      "2006  Guaranteed Rate Field;U.S. Cellular Field  Wrigley Field   \n",
      "2007  Guaranteed Rate Field;U.S. Cellular Field  Wrigley Field   \n",
      "2008  Guaranteed Rate Field;U.S. Cellular Field  Wrigley Field   \n",
      "2009  Guaranteed Rate Field;U.S. Cellular Field  Wrigley Field   \n",
      "2010  Guaranteed Rate Field;U.S. Cellular Field  Wrigley Field   \n",
      "2011  Guaranteed Rate Field;U.S. Cellular Field  Wrigley Field   \n",
      "2012  Guaranteed Rate Field;U.S. Cellular Field  Wrigley Field   \n",
      "2013  Guaranteed Rate Field;U.S. Cellular Field  Wrigley Field   \n",
      "2014  Guaranteed Rate Field;U.S. Cellular Field  Wrigley Field   \n",
      "2015  Guaranteed Rate Field;U.S. Cellular Field  Wrigley Field   \n",
      "2016  Guaranteed Rate Field;U.S. Cellular Field  Wrigley Field   \n",
      "2017  Guaranteed Rate Field;U.S. Cellular Field  Wrigley Field   \n",
      "2018  Guaranteed Rate Field;U.S. Cellular Field  Wrigley Field   \n",
      "2019  Guaranteed Rate Field;U.S. Cellular Field  Wrigley Field   \n",
      "2020  Guaranteed Rate Field;U.S. Cellular Field  Wrigley Field   \n",
      "2021  Guaranteed Rate Field;U.S. Cellular Field  Wrigley Field   \n",
      "2022  Guaranteed Rate Field;U.S. Cellular Field  Wrigley Field   \n",
      "2023  Guaranteed Rate Field;U.S. Cellular Field  Wrigley Field   \n",
      "\n",
      "                          CIN                CLE          COL  ...  \\\n",
      "2000            Cinergy Field  Progressive Field  Coors Field  ...   \n",
      "2001            Cinergy Field  Progressive Field  Coors Field  ...   \n",
      "2002            Cinergy Field  Progressive Field  Coors Field  ...   \n",
      "2003  Great American Ballpark  Progressive Field  Coors Field  ...   \n",
      "2004  Great American Ballpark  Progressive Field  Coors Field  ...   \n",
      "2005  Great American Ballpark  Progressive Field  Coors Field  ...   \n",
      "2006  Great American Ballpark  Progressive Field  Coors Field  ...   \n",
      "2007  Great American Ballpark  Progressive Field  Coors Field  ...   \n",
      "2008  Great American Ballpark  Progressive Field  Coors Field  ...   \n",
      "2009  Great American Ballpark  Progressive Field  Coors Field  ...   \n",
      "2010  Great American Ballpark  Progressive Field  Coors Field  ...   \n",
      "2011  Great American Ballpark  Progressive Field  Coors Field  ...   \n",
      "2012  Great American Ballpark  Progressive Field  Coors Field  ...   \n",
      "2013  Great American Ballpark  Progressive Field  Coors Field  ...   \n",
      "2014  Great American Ballpark  Progressive Field  Coors Field  ...   \n",
      "2015  Great American Ballpark  Progressive Field  Coors Field  ...   \n",
      "2016  Great American Ballpark  Progressive Field  Coors Field  ...   \n",
      "2017  Great American Ballpark  Progressive Field  Coors Field  ...   \n",
      "2018  Great American Ballpark  Progressive Field  Coors Field  ...   \n",
      "2019  Great American Ballpark  Progressive Field  Coors Field  ...   \n",
      "2020  Great American Ballpark  Progressive Field  Coors Field  ...   \n",
      "2021  Great American Ballpark  Progressive Field  Coors Field  ...   \n",
      "2022  Great American Ballpark  Progressive Field  Coors Field  ...   \n",
      "2023  Great American Ballpark  Progressive Field  Coors Field  ...   \n",
      "\n",
      "                     PHI                   PIT               SDN  \\\n",
      "2000    Veterans Stadium  Three Rivers Stadium  Qualcomm Stadium   \n",
      "2001    Veterans Stadium              PNC Park  Qualcomm Stadium   \n",
      "2002    Veterans Stadium              PNC Park  Qualcomm Stadium   \n",
      "2003    Veterans Stadium              PNC Park  Qualcomm Stadium   \n",
      "2004  Citizens Bank Park              PNC Park        Petco Park   \n",
      "2005  Citizens Bank Park              PNC Park        Petco Park   \n",
      "2006  Citizens Bank Park              PNC Park        Petco Park   \n",
      "2007  Citizens Bank Park              PNC Park        Petco Park   \n",
      "2008  Citizens Bank Park              PNC Park        Petco Park   \n",
      "2009  Citizens Bank Park              PNC Park        Petco Park   \n",
      "2010  Citizens Bank Park              PNC Park        Petco Park   \n",
      "2011  Citizens Bank Park              PNC Park        Petco Park   \n",
      "2012  Citizens Bank Park              PNC Park        Petco Park   \n",
      "2013  Citizens Bank Park              PNC Park        Petco Park   \n",
      "2014  Citizens Bank Park              PNC Park        Petco Park   \n",
      "2015  Citizens Bank Park              PNC Park        Petco Park   \n",
      "2016  Citizens Bank Park              PNC Park        Petco Park   \n",
      "2017  Citizens Bank Park              PNC Park        Petco Park   \n",
      "2018  Citizens Bank Park              PNC Park        Petco Park   \n",
      "2019  Citizens Bank Park              PNC Park        Petco Park   \n",
      "2020  Citizens Bank Park              PNC Park        Petco Park   \n",
      "2021  Citizens Bank Park              PNC Park        Petco Park   \n",
      "2022  Citizens Bank Park              PNC Park        Petco Park   \n",
      "2023  Citizens Bank Park              PNC Park        Petco Park   \n",
      "\n",
      "               SEA          SFN                SLN              TBA  \\\n",
      "2000  Safeco Field  Oracle Park   Busch Stadium II  Tropicana Field   \n",
      "2001  Safeco Field  Oracle Park   Busch Stadium II  Tropicana Field   \n",
      "2002  Safeco Field  Oracle Park   Busch Stadium II  Tropicana Field   \n",
      "2003  Safeco Field  Oracle Park   Busch Stadium II  Tropicana Field   \n",
      "2004  Safeco Field  Oracle Park   Busch Stadium II  Tropicana Field   \n",
      "2005  Safeco Field  Oracle Park   Busch Stadium II  Tropicana Field   \n",
      "2006  Safeco Field  Oracle Park  Busch Stadium III  Tropicana Field   \n",
      "2007  Safeco Field  Oracle Park  Busch Stadium III  Tropicana Field   \n",
      "2008  Safeco Field  Oracle Park  Busch Stadium III  Tropicana Field   \n",
      "2009  Safeco Field  Oracle Park  Busch Stadium III  Tropicana Field   \n",
      "2010  Safeco Field  Oracle Park  Busch Stadium III  Tropicana Field   \n",
      "2011  Safeco Field  Oracle Park  Busch Stadium III  Tropicana Field   \n",
      "2012  Safeco Field  Oracle Park  Busch Stadium III  Tropicana Field   \n",
      "2013  Safeco Field  Oracle Park  Busch Stadium III  Tropicana Field   \n",
      "2014  Safeco Field  Oracle Park  Busch Stadium III  Tropicana Field   \n",
      "2015  Safeco Field  Oracle Park  Busch Stadium III  Tropicana Field   \n",
      "2016  Safeco Field  Oracle Park  Busch Stadium III  Tropicana Field   \n",
      "2017  Safeco Field  Oracle Park  Busch Stadium III  Tropicana Field   \n",
      "2018  Safeco Field  Oracle Park  Busch Stadium III  Tropicana Field   \n",
      "2019  Safeco Field  Oracle Park  Busch Stadium III  Tropicana Field   \n",
      "2020  Safeco Field  Oracle Park  Busch Stadium III  Tropicana Field   \n",
      "2021  Safeco Field  Oracle Park  Busch Stadium III  Tropicana Field   \n",
      "2022  Safeco Field  Oracle Park  Busch Stadium III  Tropicana Field   \n",
      "2023  Safeco Field  Oracle Park  Busch Stadium III  Tropicana Field   \n",
      "\n",
      "                                TEX            TOR                        WAS  \n",
      "2000  Rangers Ballpark in Arlington  Rogers Centre                             \n",
      "2001  Rangers Ballpark in Arlington  Rogers Centre                             \n",
      "2002  Rangers Ballpark in Arlington  Rogers Centre                             \n",
      "2003  Rangers Ballpark in Arlington  Rogers Centre                             \n",
      "2004  Rangers Ballpark in Arlington  Rogers Centre                             \n",
      "2005  Rangers Ballpark in Arlington  Rogers Centre  Robert F. Kennedy Stadium  \n",
      "2006  Rangers Ballpark in Arlington  Rogers Centre  Robert F. Kennedy Stadium  \n",
      "2007  Rangers Ballpark in Arlington  Rogers Centre  Robert F. Kennedy Stadium  \n",
      "2008  Rangers Ballpark in Arlington  Rogers Centre             Nationals Park  \n",
      "2009  Rangers Ballpark in Arlington  Rogers Centre             Nationals Park  \n",
      "2010  Rangers Ballpark in Arlington  Rogers Centre             Nationals Park  \n",
      "2011  Rangers Ballpark in Arlington  Rogers Centre             Nationals Park  \n",
      "2012  Rangers Ballpark in Arlington  Rogers Centre             Nationals Park  \n",
      "2013  Rangers Ballpark in Arlington  Rogers Centre             Nationals Park  \n",
      "2014  Rangers Ballpark in Arlington  Rogers Centre             Nationals Park  \n",
      "2015  Rangers Ballpark in Arlington  Rogers Centre             Nationals Park  \n",
      "2016  Rangers Ballpark in Arlington  Rogers Centre             Nationals Park  \n",
      "2017  Rangers Ballpark in Arlington  Rogers Centre             Nationals Park  \n",
      "2018  Rangers Ballpark in Arlington  Rogers Centre             Nationals Park  \n",
      "2019  Rangers Ballpark in Arlington  Rogers Centre             Nationals Park  \n",
      "2020  Globe Life Field in Arlington   Sahlen Field             Nationals Park  \n",
      "2021  Globe Life Field in Arlington  Rogers Centre             Nationals Park  \n",
      "2022  Globe Life Field in Arlington  Rogers Centre             Nationals Park  \n",
      "2023  Globe Life Field in Arlington  Rogers Centre             Nationals Park  \n",
      "\n",
      "[24 rows x 32 columns]\n"
     ]
    },
    {
     "name": "stderr",
     "output_type": "stream",
     "text": [
      "\n"
     ]
    }
   ],
   "source": [
    "homes = pd.DataFrame(data=\"\", index=years, columns=teams)\n",
    "for ind in tqdm(df.index):\n",
    "    home_team = df.loc[ind, 'home_team']\n",
    "    yr = df.loc[ind, 'date'].year\n",
    "    venue = df.loc[ind, 'venue_name']\n",
    "    homes.loc[yr, home_team] = venue\n",
    "print(homes)"
   ]
  },
  {
   "cell_type": "code",
   "execution_count": 115,
   "id": "0d1ecbb3-3e6f-4ee7-ab4c-3cc20e28958c",
   "metadata": {},
   "outputs": [
    {
     "name": "stdout",
     "output_type": "stream",
     "text": [
      "[0, 1, 2, 3, 4, 5, 6, 7, 8, 9, 10, 11, 12, 13, 14, 15, 16, 17, 18, 19, 20, 21, 22, 23, 24, 25, 26, 27, 28, 29, 30, 31, 32, 33, 34, 35, 36, 37, 38, 39, 40, 41, 42, 43, 44, 45, 46, 47, 48, 49, 50, 51, 52, 53, 54, 55, 56, 57, 58, 59, 60, 61, 62, 63, 64, 65, 66, 67, 68, 69, 70, 71, 72, 73, 74, 75, 76, 77, 78, 79, 80, 81, 82, 83, 84, 85, 86, 87, 88, 89, 90, 91, 92, 93, 94, 95, 96, 97, 98, 99, 100, 101, 102, 103, 104, 105, 106, 107, 108, 109, 110, 111, 112, 113, 114, 115, 116, 117, 118, 119, 120, 121, 122, 123, 124, 125, 126, 127, 128, 129, 130, 131, 132, 133, 134, 135, 136, 137, 138, 139, 140, 141, 142, 143, 144, 145, 146, 147, 148, 149, 150, 151, 152, 153, 154, 155, 156, 157, 158, 159, 160, 161, 162, 163, 164, 165, 166, 167, 168, 169, 170, 171, 172, 173, 174, 175, 176, 177, 178, 179, 180, 181, 182, 183, 184, 185, 186, 187, 188, 189, 190, 191, 192, 193]\n",
      "[-1, 0, 1, 2, 3, 4, 5, 6, 7, 8, 9, 10, 11, 12, 13, 14, 15, 16, 17, 18, 19, 20, 21, 22, 23, 24, 25, 26, 27, 28, 29, 30, 31, 32, 33, 34, 35, 36, 37, 38, 39, 40, 41, 42, 43, 44, 45, 46, 47, 48, 49, 50, 51, 52, 53, 54, 55, 56, 57, 58, 59, 60, 61, 62, 63, 64, 65, 66, 67, 68, 69, 70, 71, 72, 73, 74, 75, 76, 77, 78, 79, 80, 81, 82, 83, 84, 85, 86, 87, 88, 89, 90, 91, 92, 93, 94, 95, 96, 97, 98, 99, 100, 101, 102, 103, 104, 105, 106, 107, 108, 109, 110, 111, 112, 113, 114, 115, 116, 117, 118, 119, 120, 121, 122, 123, 124, 125, 126, 127, 128, 129, 130, 131, 132, 133, 134, 135, 136, 137, 138, 139, 140, 141, 142, 143, 144, 145, 146, 147, 148, 149, 150, 151, 152, 153, 154, 155, 156, 157, 158, 159, 160, 161, 162, 163, 164, 165, 166, 167, 168, 169, 170, 171, 172, 173, 174, 175, 176, 177, 178, 179, 180, 181, 182, 183, 184, 185, 186, 187, 188, 189, 190, 191, 192, 193, 194]\n"
     ]
    }
   ],
   "source": [
    "days = list(np.arange(0, df['day'].max()+1, 1))\n",
    "print(days)\n",
    "\n",
    "extended_days = [-1] + list(days) + [days[-1]+1]\n",
    "print(extended_days)"
   ]
  },
  {
   "cell_type": "code",
   "execution_count": 149,
   "id": "24e1677b-8b26-4035-99a7-605f2abfea06",
   "metadata": {},
   "outputs": [],
   "source": [
    "location = {team:\n",
    "                {year:\n",
    "                    {day:\n",
    "                         {'home': False,\n",
    "                          'away': False,\n",
    "                          'travel': False,\n",
    "                          'miles': 0,\n",
    "                          'venue': None,\n",
    "                          'won_game': False,\n",
    "                          'games': 0,\n",
    "                          'wins': 0,\n",
    "                          'wab': baseline_winrate.loc[year, team],\n",
    "                          'dwab': 0}\n",
    "                     for day in extended_days\n",
    "                    }\n",
    "                for year in years\n",
    "                }\n",
    "            for team in teams\n",
    "            }\n",
    "\n",
    "for team in teams:\n",
    "    for yr in years:\n",
    "        home_venue = homes.loc[yr, team]\n",
    "        if home_venue is None:\n",
    "            print(team, yr)\n",
    "            del location[team][yr]\n",
    "        else:\n",
    "            location[team][yr][-1]['venue'] = home_venue\n",
    "            location[team][yr][days[-1]+1]['venue'] = home_venue"
   ]
  },
  {
   "cell_type": "code",
   "execution_count": 150,
   "id": "48402404-1d67-45bd-b5ce-1d288c94b737",
   "metadata": {},
   "outputs": [
    {
     "name": "stderr",
     "output_type": "stream",
     "text": [
      "100%|█| 56775/56775 [\n"
     ]
    }
   ],
   "source": [
    "for ind in tqdm(df.index):\n",
    "    home_team = df.loc[ind, 'home_team']\n",
    "    away_team = df.loc[ind, 'away_team']\n",
    "    home_score = df.loc[ind, 'home_score']\n",
    "    away_score = df.loc[ind, 'away_score']\n",
    "    yr = df.loc[ind, 'date'].year\n",
    "    day = df.loc[ind, 'day']\n",
    "    venue = df.loc[ind, 'venue_name']\n",
    "    location[home_team][yr][day]['home'] = True\n",
    "    location[away_team][yr][day]['away'] = True    \n",
    "    location[home_team][yr][day]['venue'] = venue\n",
    "    location[away_team][yr][day]['venue'] = venue\n",
    "    if home_score != away_score:\n",
    "        if home_score > away_score:\n",
    "            location[home_team][yr][day]['won_game'] = True\n",
    "        else:\n",
    "            location[away_team][yr][day]['won_game'] = True"
   ]
  },
  {
   "cell_type": "code",
   "execution_count": 151,
   "id": "d6006713-cd35-4898-ab9e-fbff69a3679b",
   "metadata": {},
   "outputs": [],
   "source": [
    "for team in teams:\n",
    "    for yr in years:\n",
    "        for day in reversed(days):\n",
    "            if location[team][yr][day]['venue'] is None:\n",
    "                location[team][yr][day]['venue'] = location[team][yr][day+1]['venue']\n",
    "        for day in extended_days[1:]:\n",
    "            yesterday_venue = location[team][yr][day-1]['venue']\n",
    "            today_venue = location[team][yr][day]['venue']\n",
    "            if yesterday_venue != today_venue:\n",
    "                location[team][yr][day]['travel'] = True\n",
    "                location[team][yr][day]['miles'] = geodist(venue_df.loc[yesterday_venue].tolist(), venue_df.loc[today_venue].tolist()).miles\n",
    "            location[team][yr][day]['wins'] = location[team][yr][day-1]['wins'] + location[team][yr][day]['won_game']\n",
    "            location[team][yr][day]['games'] = location[team][yr][day-1]['games'] + location[team][yr][day]['home'] + location[team][yr][day]['away']\n",
    "            if location[team][yr][day]['games'] > 0:\n",
    "                location[team][yr][day]['wab'] = location[team][yr][day]['wins'] - baseline_winrate.loc[yr, team] * location[team][yr][day]['games']\n",
    "                location[team][yr][day]['dwab'] = location[team][yr][day]['wab'] - location[team][yr][day-1]['wab']\n",
    "        if location[team][yr][days[-1]+1]['games'] == 0:\n",
    "            del location[team][yr]"
   ]
  },
  {
   "cell_type": "code",
   "execution_count": 163,
   "id": "bb255056-d504-41d1-bef8-65afeb0e8cfd",
   "metadata": {},
   "outputs": [
    {
     "name": "stdout",
     "output_type": "stream",
     "text": [
      "['win', 'baseline_odds', 'home0', 'home1', 'home2', 'home3', 'home4', 'home5', 'home6', 'home7', 'home8', 'home9', 'home10', 'home11', 'home12', 'home13', 'home14', 'home15', 'home16', 'home17', 'home18', 'home19', 'home20', 'away0', 'away1', 'away2', 'away3', 'away4', 'away5', 'away6', 'away7', 'away8', 'away9', 'away10', 'away11', 'away12', 'away13', 'away14', 'away15', 'away16', 'away17', 'away18', 'away19', 'away20', 'travel0', 'travel1', 'travel2', 'travel3', 'travel4', 'travel5', 'travel6', 'travel7', 'travel8', 'travel9', 'travel10', 'travel11', 'travel12', 'travel13', 'travel14', 'travel15', 'travel16', 'travel17', 'travel18', 'travel19', 'travel20', 'miles0', 'miles1', 'miles2', 'miles3', 'miles4', 'miles5', 'miles6', 'miles7', 'miles8', 'miles9', 'miles10', 'miles11', 'miles12', 'miles13', 'miles14', 'miles15', 'miles16', 'miles17', 'miles18', 'miles19', 'miles20']\n"
     ]
    }
   ],
   "source": [
    "var_names = ['win', 'baseline_odds'] + [f'{var}{delay}' for var, delay in itr.product(['home', 'away', 'travel', 'miles'], range(21))]\n",
    "print(var_names)\n",
    "ml_df = pd.DataFrame(data=np.nan, columns=var_names, index=[0])"
   ]
  },
  {
   "cell_type": "code",
   "execution_count": null,
   "id": "3df3276d-9015-4de3-ba35-cf752a079c3d",
   "metadata": {},
   "outputs": [],
   "source": [
    "ind = 0\n",
    "for team in teams:\n",
    "    for yr in location[team].keys():\n",
    "        for day in location[team][yr].keys():\n",
    "            ml_df.loc[ind, 'win'] = "
   ]
  }
 ],
 "metadata": {
  "kernelspec": {
   "display_name": ".venv_datathon2024",
   "language": "python",
   "name": ".venv_datathon2024"
  },
  "language_info": {
   "codemirror_mode": {
    "name": "ipython",
    "version": 3
   },
   "file_extension": ".py",
   "mimetype": "text/x-python",
   "name": "python",
   "nbconvert_exporter": "python",
   "pygments_lexer": "ipython3",
   "version": "3.11.6"
  }
 },
 "nbformat": 4,
 "nbformat_minor": 5
}
