{
 "cells": [
  {
   "cell_type": "markdown",
   "id": "ee3817fe-a6c8-444f-afcd-965b8c7ee3b5",
   "metadata": {},
   "source": [
    "This notebook processes all the data in *datathon_2024_dataset_corrected.csv* into a dataset that relates the outcome of each game to the team's short-term travel history preceding the game."
   ]
  },
  {
   "cell_type": "code",
   "execution_count": 1,
   "id": "c689c691-08d1-42cf-9331-971dc5f492f2",
   "metadata": {},
   "outputs": [],
   "source": [
    "import numpy as np\n",
    "import pandas as pd\n",
    "from geopy.distance import distance as geodist\n",
    "from tqdm import tqdm\n",
    "import itertools as itr\n",
    "import matplotlib.pyplot as plt\n",
    "import seaborn as sns"
   ]
  },
  {
   "cell_type": "code",
   "execution_count": 2,
   "id": "262561d6-0c9e-4759-870c-d917ad8fbc31",
   "metadata": {},
   "outputs": [
    {
     "name": "stdout",
     "output_type": "stream",
     "text": [
      "        date home_team away_team  is_day_game  home_score  away_score  \\\n",
      "0 2000-03-29       NYN       CHN        False           3           5   \n",
      "1 2000-03-30       CHN       NYN        False           1           5   \n",
      "2 2000-04-03       ATL       COL         True           2           0   \n",
      "3 2000-04-03       CIN       MIL         True           3           3   \n",
      "4 2000-04-03       FLO       SFN        False           6           4   \n",
      "\n",
      "         venue_name  \n",
      "0        Tokyo Dome  \n",
      "1        Tokyo Dome  \n",
      "2      Turner Field  \n",
      "3     Cinergy Field  \n",
      "4  Sun Life Stadium  \n"
     ]
    }
   ],
   "source": [
    "df = pd.read_csv('.data/datathon_2024_dataset_corrected.csv')\n",
    "df[\"date\"] = pd.to_datetime(df[\"game_date\"], format='%Y%m%d')\n",
    "df = df[['date', 'home_team', 'away_team', 'is_day_game', 'home_score', 'away_score', 'venue_name']]\n",
    "print(df.head())"
   ]
  },
  {
   "cell_type": "code",
   "execution_count": 3,
   "id": "973d6336-74a6-402d-a5cf-6db5e7e57098",
   "metadata": {},
   "outputs": [
    {
     "name": "stdout",
     "output_type": "stream",
     "text": [
      "                     lat     long\n",
      "venue_name                       \n",
      "Tokyo Dome        35.705  139.752\n",
      "Turner Field      33.735  -84.389\n",
      "Cinergy Field     39.548  -84.303\n",
      "Sun Life Stadium  25.959  -80.240\n",
      "Stade Olympique   45.558  -73.552\n"
     ]
    }
   ],
   "source": [
    "venue_df = pd.read_csv('.data/venue.csv', index_col='venue_name')\n",
    "print(venue_df.head())"
   ]
  },
  {
   "cell_type": "code",
   "execution_count": 4,
   "id": "c3e51e35-82fb-40c5-a83f-ac52d98e575c",
   "metadata": {},
   "outputs": [
    {
     "name": "stdout",
     "output_type": "stream",
     "text": [
      "              NYN          CHN          ATL         CIN          FLO  \\\n",
      "2000  1038.017188   917.678828  1042.674724  997.844659   966.687400   \n",
      "2001  1005.592796  1026.929246  1018.058941  924.181293   978.822684   \n",
      "2002   987.941045   927.809848  1082.079387  977.270124   993.957073   \n",
      "2003   966.341535  1029.857521  1099.373832  953.859508  1062.951834   \n",
      "2004   957.956335  1039.445100  1051.894527  995.447553  1005.446032   \n",
      "\n",
      "              MON          SLN          ANA         BAL          MIN  ...  \\\n",
      "2000   912.845077  1041.235203  1015.696564  967.604105   946.956321  ...   \n",
      "2001   931.993227  1038.864909  1012.488507  929.048103  1026.780353  ...   \n",
      "2002  1019.348446  1061.354864  1088.919223  951.939834  1034.855708  ...   \n",
      "2003  1023.528184  1030.376459   972.777884  956.184437  1005.573792  ...   \n",
      "2004   919.790092  1107.615123  1051.390657  984.328987  1020.424621  ...   \n",
      "\n",
      "              SDN          SFN          BOS         DET          NYA  \\\n",
      "2000   969.552464  1040.555750  1032.038117  986.784192  1031.780582   \n",
      "2001  1010.544726  1048.202280  1019.098345  944.518491  1076.482086   \n",
      "2002   949.991485  1071.921380  1058.698256  890.844440  1084.640025   \n",
      "2003   928.216077  1087.435366  1037.916845  812.533838  1055.232688   \n",
      "2004  1010.024452  1022.322296  1083.292665  947.564019  1082.505112   \n",
      "\n",
      "              LAN          CHA          CLE  WAS  MIA  \n",
      "2000  1001.828403  1059.911691  1050.561910  NaN  NaN  \n",
      "2001  1041.447166  1022.982847  1045.303826  NaN  NaN  \n",
      "2002  1064.175661   969.353191   962.643220  NaN  NaN  \n",
      "2003  1012.351465   999.487033   911.509390  NaN  NaN  \n",
      "2004  1035.883016   997.932651   984.061899  NaN  NaN  \n",
      "\n",
      "[5 rows x 32 columns]\n"
     ]
    }
   ],
   "source": [
    "ratings_df = pd.read_csv('.data/ratings.csv', index_col=0)\n",
    "print(ratings_df.head())"
   ]
  },
  {
   "cell_type": "code",
   "execution_count": 5,
   "id": "2a20b238-cb26-4028-a316-5b9766f7c14b",
   "metadata": {},
   "outputs": [
    {
     "name": "stdout",
     "output_type": "stream",
     "text": [
      "[2000 2001 2002 2003 2004 2005 2006 2007 2008 2009 2010 2011 2012 2013\n",
      " 2014 2015 2016 2017 2018 2019 2020 2021 2022 2023]\n"
     ]
    }
   ],
   "source": [
    "years = df['date'].dt.year.unique()\n",
    "years.sort()\n",
    "print(years)"
   ]
  },
  {
   "cell_type": "code",
   "execution_count": 6,
   "id": "0e00bc25-238f-4eb0-889c-cbfbfc264c70",
   "metadata": {},
   "outputs": [
    {
     "name": "stdout",
     "output_type": "stream",
     "text": [
      "['ANA' 'ARI' 'ATL' 'BAL' 'BOS' 'CHA' 'CHN' 'CIN' 'CLE' 'COL' 'DET' 'FLO'\n",
      " 'HOU' 'KCA' 'LAN' 'MIA' 'MIL' 'MIN' 'MON' 'NYA' 'NYN' 'OAK' 'PHI' 'PIT'\n",
      " 'SDN' 'SEA' 'SFN' 'SLN' 'TBA' 'TEX' 'TOR' 'WAS']\n"
     ]
    }
   ],
   "source": [
    "teams = df['home_team'].unique()\n",
    "teams.sort()\n",
    "print(teams)"
   ]
  },
  {
   "cell_type": "code",
   "execution_count": 7,
   "id": "8344199b-386a-45ec-87ef-ec656fac1b2e",
   "metadata": {},
   "outputs": [
    {
     "name": "stderr",
     "output_type": "stream",
     "text": [
      "100%|█| 56775/56775 ["
     ]
    },
    {
     "name": "stdout",
     "output_type": "stream",
     "text": [
      "        date home_team away_team  is_day_game  home_score  away_score  \\\n",
      "0 2000-03-29       NYN       CHN        False           3           5   \n",
      "1 2000-03-30       CHN       NYN        False           1           5   \n",
      "2 2000-04-03       ATL       COL         True           2           0   \n",
      "3 2000-04-03       CIN       MIL         True           3           3   \n",
      "4 2000-04-03       FLO       SFN        False           6           4   \n",
      "\n",
      "         venue_name  day  \n",
      "0        Tokyo Dome    0  \n",
      "1        Tokyo Dome    1  \n",
      "2      Turner Field    5  \n",
      "3     Cinergy Field    5  \n",
      "4  Sun Life Stadium    5  \n"
     ]
    },
    {
     "name": "stderr",
     "output_type": "stream",
     "text": [
      "\n"
     ]
    }
   ],
   "source": [
    "opening_day = {yr : df['date'][df['date'].dt.year == yr].min() for yr in years}\n",
    "\n",
    "df['day'] = 0\n",
    "for ind in tqdm(df.index):\n",
    "    df.loc[ind, 'day'] = (df.loc[ind, 'date'] - opening_day[df.loc[ind, 'date'].year]).days\n",
    "\n",
    "print(df.head())"
   ]
  },
  {
   "cell_type": "code",
   "execution_count": 8,
   "id": "c37c4d8f-7bf2-495d-99eb-3c6823248f43",
   "metadata": {},
   "outputs": [
    {
     "name": "stderr",
     "output_type": "stream",
     "text": [
      "100%|█| 56775/56775 ["
     ]
    },
    {
     "name": "stdout",
     "output_type": "stream",
     "text": [
      "                           ANA          ARI           ATL  \\\n",
      "2000  Angel Stadium of Anaheim  Chase Field  Turner Field   \n",
      "2001  Angel Stadium of Anaheim  Chase Field  Turner Field   \n",
      "2002  Angel Stadium of Anaheim  Chase Field  Turner Field   \n",
      "2003  Angel Stadium of Anaheim  Chase Field  Turner Field   \n",
      "2004  Angel Stadium of Anaheim  Chase Field  Turner Field   \n",
      "2005  Angel Stadium of Anaheim  Chase Field  Turner Field   \n",
      "2006  Angel Stadium of Anaheim  Chase Field  Turner Field   \n",
      "2007  Angel Stadium of Anaheim  Chase Field  Turner Field   \n",
      "2008  Angel Stadium of Anaheim  Chase Field  Turner Field   \n",
      "2009  Angel Stadium of Anaheim  Chase Field  Turner Field   \n",
      "2010  Angel Stadium of Anaheim  Chase Field  Turner Field   \n",
      "2011  Angel Stadium of Anaheim  Chase Field  Turner Field   \n",
      "2012  Angel Stadium of Anaheim  Chase Field  Turner Field   \n",
      "2013  Angel Stadium of Anaheim  Chase Field  Turner Field   \n",
      "2014  Angel Stadium of Anaheim  Chase Field  Turner Field   \n",
      "2015  Angel Stadium of Anaheim  Chase Field  Turner Field   \n",
      "2016  Angel Stadium of Anaheim  Chase Field  Turner Field   \n",
      "2017  Angel Stadium of Anaheim  Chase Field   Truist Park   \n",
      "2018  Angel Stadium of Anaheim  Chase Field   Truist Park   \n",
      "2019  Angel Stadium of Anaheim  Chase Field   Truist Park   \n",
      "2020  Angel Stadium of Anaheim  Chase Field   Truist Park   \n",
      "2021  Angel Stadium of Anaheim  Chase Field   Truist Park   \n",
      "2022  Angel Stadium of Anaheim  Chase Field   Truist Park   \n",
      "2023  Angel Stadium of Anaheim  Chase Field   Truist Park   \n",
      "\n",
      "                              BAL          BOS  \\\n",
      "2000  Oriole Park at Camden Yards  Fenway Park   \n",
      "2001  Oriole Park at Camden Yards  Fenway Park   \n",
      "2002  Oriole Park at Camden Yards  Fenway Park   \n",
      "2003  Oriole Park at Camden Yards  Fenway Park   \n",
      "2004  Oriole Park at Camden Yards  Fenway Park   \n",
      "2005  Oriole Park at Camden Yards  Fenway Park   \n",
      "2006  Oriole Park at Camden Yards  Fenway Park   \n",
      "2007  Oriole Park at Camden Yards  Fenway Park   \n",
      "2008  Oriole Park at Camden Yards  Fenway Park   \n",
      "2009  Oriole Park at Camden Yards  Fenway Park   \n",
      "2010  Oriole Park at Camden Yards  Fenway Park   \n",
      "2011  Oriole Park at Camden Yards  Fenway Park   \n",
      "2012  Oriole Park at Camden Yards  Fenway Park   \n",
      "2013  Oriole Park at Camden Yards  Fenway Park   \n",
      "2014  Oriole Park at Camden Yards  Fenway Park   \n",
      "2015  Oriole Park at Camden Yards  Fenway Park   \n",
      "2016  Oriole Park at Camden Yards  Fenway Park   \n",
      "2017  Oriole Park at Camden Yards  Fenway Park   \n",
      "2018  Oriole Park at Camden Yards  Fenway Park   \n",
      "2019  Oriole Park at Camden Yards  Fenway Park   \n",
      "2020  Oriole Park at Camden Yards  Fenway Park   \n",
      "2021  Oriole Park at Camden Yards  Fenway Park   \n",
      "2022  Oriole Park at Camden Yards  Fenway Park   \n",
      "2023  Oriole Park at Camden Yards  Fenway Park   \n",
      "\n",
      "                                            CHA            CHN  \\\n",
      "2000  Guaranteed Rate Field;U.S. Cellular Field  Wrigley Field   \n",
      "2001  Guaranteed Rate Field;U.S. Cellular Field  Wrigley Field   \n",
      "2002  Guaranteed Rate Field;U.S. Cellular Field  Wrigley Field   \n",
      "2003  Guaranteed Rate Field;U.S. Cellular Field  Wrigley Field   \n",
      "2004  Guaranteed Rate Field;U.S. Cellular Field  Wrigley Field   \n",
      "2005  Guaranteed Rate Field;U.S. Cellular Field  Wrigley Field   \n",
      "2006  Guaranteed Rate Field;U.S. Cellular Field  Wrigley Field   \n",
      "2007  Guaranteed Rate Field;U.S. Cellular Field  Wrigley Field   \n",
      "2008  Guaranteed Rate Field;U.S. Cellular Field  Wrigley Field   \n",
      "2009  Guaranteed Rate Field;U.S. Cellular Field  Wrigley Field   \n",
      "2010  Guaranteed Rate Field;U.S. Cellular Field  Wrigley Field   \n",
      "2011  Guaranteed Rate Field;U.S. Cellular Field  Wrigley Field   \n",
      "2012  Guaranteed Rate Field;U.S. Cellular Field  Wrigley Field   \n",
      "2013  Guaranteed Rate Field;U.S. Cellular Field  Wrigley Field   \n",
      "2014  Guaranteed Rate Field;U.S. Cellular Field  Wrigley Field   \n",
      "2015  Guaranteed Rate Field;U.S. Cellular Field  Wrigley Field   \n",
      "2016  Guaranteed Rate Field;U.S. Cellular Field  Wrigley Field   \n",
      "2017  Guaranteed Rate Field;U.S. Cellular Field  Wrigley Field   \n",
      "2018  Guaranteed Rate Field;U.S. Cellular Field  Wrigley Field   \n",
      "2019  Guaranteed Rate Field;U.S. Cellular Field  Wrigley Field   \n",
      "2020  Guaranteed Rate Field;U.S. Cellular Field  Wrigley Field   \n",
      "2021  Guaranteed Rate Field;U.S. Cellular Field  Wrigley Field   \n",
      "2022  Guaranteed Rate Field;U.S. Cellular Field  Wrigley Field   \n",
      "2023  Guaranteed Rate Field;U.S. Cellular Field  Wrigley Field   \n",
      "\n",
      "                          CIN                CLE          COL  ...  \\\n",
      "2000            Cinergy Field  Progressive Field  Coors Field  ...   \n",
      "2001            Cinergy Field  Progressive Field  Coors Field  ...   \n",
      "2002            Cinergy Field  Progressive Field  Coors Field  ...   \n",
      "2003  Great American Ballpark  Progressive Field  Coors Field  ...   \n",
      "2004  Great American Ballpark  Progressive Field  Coors Field  ...   \n",
      "2005  Great American Ballpark  Progressive Field  Coors Field  ...   \n",
      "2006  Great American Ballpark  Progressive Field  Coors Field  ...   \n",
      "2007  Great American Ballpark  Progressive Field  Coors Field  ...   \n",
      "2008  Great American Ballpark  Progressive Field  Coors Field  ...   \n",
      "2009  Great American Ballpark  Progressive Field  Coors Field  ...   \n",
      "2010  Great American Ballpark  Progressive Field  Coors Field  ...   \n",
      "2011  Great American Ballpark  Progressive Field  Coors Field  ...   \n",
      "2012  Great American Ballpark  Progressive Field  Coors Field  ...   \n",
      "2013  Great American Ballpark  Progressive Field  Coors Field  ...   \n",
      "2014  Great American Ballpark  Progressive Field  Coors Field  ...   \n",
      "2015  Great American Ballpark  Progressive Field  Coors Field  ...   \n",
      "2016  Great American Ballpark  Progressive Field  Coors Field  ...   \n",
      "2017  Great American Ballpark  Progressive Field  Coors Field  ...   \n",
      "2018  Great American Ballpark  Progressive Field  Coors Field  ...   \n",
      "2019  Great American Ballpark  Progressive Field  Coors Field  ...   \n",
      "2020  Great American Ballpark  Progressive Field  Coors Field  ...   \n",
      "2021  Great American Ballpark  Progressive Field  Coors Field  ...   \n",
      "2022  Great American Ballpark  Progressive Field  Coors Field  ...   \n",
      "2023  Great American Ballpark  Progressive Field  Coors Field  ...   \n",
      "\n",
      "                     PHI                   PIT               SDN  \\\n",
      "2000    Veterans Stadium  Three Rivers Stadium  Qualcomm Stadium   \n",
      "2001    Veterans Stadium              PNC Park  Qualcomm Stadium   \n",
      "2002    Veterans Stadium              PNC Park  Qualcomm Stadium   \n",
      "2003    Veterans Stadium              PNC Park  Qualcomm Stadium   \n",
      "2004  Citizens Bank Park              PNC Park        Petco Park   \n",
      "2005  Citizens Bank Park              PNC Park        Petco Park   \n",
      "2006  Citizens Bank Park              PNC Park        Petco Park   \n",
      "2007  Citizens Bank Park              PNC Park        Petco Park   \n",
      "2008  Citizens Bank Park              PNC Park        Petco Park   \n",
      "2009  Citizens Bank Park              PNC Park        Petco Park   \n",
      "2010  Citizens Bank Park              PNC Park        Petco Park   \n",
      "2011  Citizens Bank Park              PNC Park        Petco Park   \n",
      "2012  Citizens Bank Park              PNC Park        Petco Park   \n",
      "2013  Citizens Bank Park              PNC Park        Petco Park   \n",
      "2014  Citizens Bank Park              PNC Park        Petco Park   \n",
      "2015  Citizens Bank Park              PNC Park        Petco Park   \n",
      "2016  Citizens Bank Park              PNC Park        Petco Park   \n",
      "2017  Citizens Bank Park              PNC Park        Petco Park   \n",
      "2018  Citizens Bank Park              PNC Park        Petco Park   \n",
      "2019  Citizens Bank Park              PNC Park        Petco Park   \n",
      "2020  Citizens Bank Park              PNC Park        Petco Park   \n",
      "2021  Citizens Bank Park              PNC Park        Petco Park   \n",
      "2022  Citizens Bank Park              PNC Park        Petco Park   \n",
      "2023  Citizens Bank Park              PNC Park        Petco Park   \n",
      "\n",
      "               SEA          SFN                SLN              TBA  \\\n",
      "2000  Safeco Field  Oracle Park   Busch Stadium II  Tropicana Field   \n",
      "2001  Safeco Field  Oracle Park   Busch Stadium II  Tropicana Field   \n",
      "2002  Safeco Field  Oracle Park   Busch Stadium II  Tropicana Field   \n",
      "2003  Safeco Field  Oracle Park   Busch Stadium II  Tropicana Field   \n",
      "2004  Safeco Field  Oracle Park   Busch Stadium II  Tropicana Field   \n",
      "2005  Safeco Field  Oracle Park   Busch Stadium II  Tropicana Field   \n",
      "2006  Safeco Field  Oracle Park  Busch Stadium III  Tropicana Field   \n",
      "2007  Safeco Field  Oracle Park  Busch Stadium III  Tropicana Field   \n",
      "2008  Safeco Field  Oracle Park  Busch Stadium III  Tropicana Field   \n",
      "2009  Safeco Field  Oracle Park  Busch Stadium III  Tropicana Field   \n",
      "2010  Safeco Field  Oracle Park  Busch Stadium III  Tropicana Field   \n",
      "2011  Safeco Field  Oracle Park  Busch Stadium III  Tropicana Field   \n",
      "2012  Safeco Field  Oracle Park  Busch Stadium III  Tropicana Field   \n",
      "2013  Safeco Field  Oracle Park  Busch Stadium III  Tropicana Field   \n",
      "2014  Safeco Field  Oracle Park  Busch Stadium III  Tropicana Field   \n",
      "2015  Safeco Field  Oracle Park  Busch Stadium III  Tropicana Field   \n",
      "2016  Safeco Field  Oracle Park  Busch Stadium III  Tropicana Field   \n",
      "2017  Safeco Field  Oracle Park  Busch Stadium III  Tropicana Field   \n",
      "2018  Safeco Field  Oracle Park  Busch Stadium III  Tropicana Field   \n",
      "2019  Safeco Field  Oracle Park  Busch Stadium III  Tropicana Field   \n",
      "2020  Safeco Field  Oracle Park  Busch Stadium III  Tropicana Field   \n",
      "2021  Safeco Field  Oracle Park  Busch Stadium III  Tropicana Field   \n",
      "2022  Safeco Field  Oracle Park  Busch Stadium III  Tropicana Field   \n",
      "2023  Safeco Field  Oracle Park  Busch Stadium III  Tropicana Field   \n",
      "\n",
      "                                TEX            TOR                        WAS  \n",
      "2000  Rangers Ballpark in Arlington  Rogers Centre                             \n",
      "2001  Rangers Ballpark in Arlington  Rogers Centre                             \n",
      "2002  Rangers Ballpark in Arlington  Rogers Centre                             \n",
      "2003  Rangers Ballpark in Arlington  Rogers Centre                             \n",
      "2004  Rangers Ballpark in Arlington  Rogers Centre                             \n",
      "2005  Rangers Ballpark in Arlington  Rogers Centre  Robert F. Kennedy Stadium  \n",
      "2006  Rangers Ballpark in Arlington  Rogers Centre  Robert F. Kennedy Stadium  \n",
      "2007  Rangers Ballpark in Arlington  Rogers Centre  Robert F. Kennedy Stadium  \n",
      "2008  Rangers Ballpark in Arlington  Rogers Centre             Nationals Park  \n",
      "2009  Rangers Ballpark in Arlington  Rogers Centre             Nationals Park  \n",
      "2010  Rangers Ballpark in Arlington  Rogers Centre             Nationals Park  \n",
      "2011  Rangers Ballpark in Arlington  Rogers Centre             Nationals Park  \n",
      "2012  Rangers Ballpark in Arlington  Rogers Centre             Nationals Park  \n",
      "2013  Rangers Ballpark in Arlington  Rogers Centre             Nationals Park  \n",
      "2014  Rangers Ballpark in Arlington  Rogers Centre             Nationals Park  \n",
      "2015  Rangers Ballpark in Arlington  Rogers Centre             Nationals Park  \n",
      "2016  Rangers Ballpark in Arlington  Rogers Centre             Nationals Park  \n",
      "2017  Rangers Ballpark in Arlington  Rogers Centre             Nationals Park  \n",
      "2018  Rangers Ballpark in Arlington  Rogers Centre             Nationals Park  \n",
      "2019  Rangers Ballpark in Arlington  Rogers Centre             Nationals Park  \n",
      "2020  Globe Life Field in Arlington   Sahlen Field             Nationals Park  \n",
      "2021  Globe Life Field in Arlington  Rogers Centre             Nationals Park  \n",
      "2022  Globe Life Field in Arlington  Rogers Centre             Nationals Park  \n",
      "2023  Globe Life Field in Arlington  Rogers Centre             Nationals Park  \n",
      "\n",
      "[24 rows x 32 columns]\n"
     ]
    },
    {
     "name": "stderr",
     "output_type": "stream",
     "text": [
      "\n"
     ]
    }
   ],
   "source": [
    "homes = pd.DataFrame(data=\"\", index=years, columns=teams)\n",
    "for ind in tqdm(df.index):\n",
    "    home_team = df.loc[ind, 'home_team']\n",
    "    yr = df.loc[ind, 'date'].year\n",
    "    venue = df.loc[ind, 'venue_name']\n",
    "    homes.loc[yr, home_team] = venue\n",
    "print(homes)"
   ]
  },
  {
   "cell_type": "code",
   "execution_count": 9,
   "id": "0d1ecbb3-3e6f-4ee7-ab4c-3cc20e28958c",
   "metadata": {},
   "outputs": [
    {
     "name": "stdout",
     "output_type": "stream",
     "text": [
      "[0, 1, 2, 3, 4, 5, 6, 7, 8, 9, 10, 11, 12, 13, 14, 15, 16, 17, 18, 19, 20, 21, 22, 23, 24, 25, 26, 27, 28, 29, 30, 31, 32, 33, 34, 35, 36, 37, 38, 39, 40, 41, 42, 43, 44, 45, 46, 47, 48, 49, 50, 51, 52, 53, 54, 55, 56, 57, 58, 59, 60, 61, 62, 63, 64, 65, 66, 67, 68, 69, 70, 71, 72, 73, 74, 75, 76, 77, 78, 79, 80, 81, 82, 83, 84, 85, 86, 87, 88, 89, 90, 91, 92, 93, 94, 95, 96, 97, 98, 99, 100, 101, 102, 103, 104, 105, 106, 107, 108, 109, 110, 111, 112, 113, 114, 115, 116, 117, 118, 119, 120, 121, 122, 123, 124, 125, 126, 127, 128, 129, 130, 131, 132, 133, 134, 135, 136, 137, 138, 139, 140, 141, 142, 143, 144, 145, 146, 147, 148, 149, 150, 151, 152, 153, 154, 155, 156, 157, 158, 159, 160, 161, 162, 163, 164, 165, 166, 167, 168, 169, 170, 171, 172, 173, 174, 175, 176, 177, 178, 179, 180, 181, 182, 183, 184, 185, 186, 187, 188, 189, 190, 191, 192, 193]\n",
      "[-1, 0, 1, 2, 3, 4, 5, 6, 7, 8, 9, 10, 11, 12, 13, 14, 15, 16, 17, 18, 19, 20, 21, 22, 23, 24, 25, 26, 27, 28, 29, 30, 31, 32, 33, 34, 35, 36, 37, 38, 39, 40, 41, 42, 43, 44, 45, 46, 47, 48, 49, 50, 51, 52, 53, 54, 55, 56, 57, 58, 59, 60, 61, 62, 63, 64, 65, 66, 67, 68, 69, 70, 71, 72, 73, 74, 75, 76, 77, 78, 79, 80, 81, 82, 83, 84, 85, 86, 87, 88, 89, 90, 91, 92, 93, 94, 95, 96, 97, 98, 99, 100, 101, 102, 103, 104, 105, 106, 107, 108, 109, 110, 111, 112, 113, 114, 115, 116, 117, 118, 119, 120, 121, 122, 123, 124, 125, 126, 127, 128, 129, 130, 131, 132, 133, 134, 135, 136, 137, 138, 139, 140, 141, 142, 143, 144, 145, 146, 147, 148, 149, 150, 151, 152, 153, 154, 155, 156, 157, 158, 159, 160, 161, 162, 163, 164, 165, 166, 167, 168, 169, 170, 171, 172, 173, 174, 175, 176, 177, 178, 179, 180, 181, 182, 183, 184, 185, 186, 187, 188, 189, 190, 191, 192, 193, 194]\n"
     ]
    }
   ],
   "source": [
    "days = list(np.arange(0, df['day'].max()+1, 1))\n",
    "print(days)\n",
    "\n",
    "extended_days = [-1] + list(days) + [days[-1]+1]\n",
    "print(extended_days)"
   ]
  },
  {
   "cell_type": "code",
   "execution_count": 10,
   "id": "24e1677b-8b26-4035-99a7-605f2abfea06",
   "metadata": {},
   "outputs": [],
   "source": [
    "location = {team:\n",
    "                {year:\n",
    "                    {day:\n",
    "                         {'home': 0,\n",
    "                          'away': 0,\n",
    "                          'travel': 0,\n",
    "                          'miles': 0,\n",
    "                          'daygame': 0,\n",
    "                          'venue': None,\n",
    "                          'won': 0,\n",
    "                          'odds': np.nan,\n",
    "                          'expected': np.nan}\n",
    "                     for day in extended_days\n",
    "                    }\n",
    "                for year in years\n",
    "                }\n",
    "            for team in teams\n",
    "            }\n",
    "\n",
    "for team in teams:\n",
    "    for yr in years:\n",
    "        home_venue = homes.loc[yr, team]\n",
    "        if home_venue is None:\n",
    "            print(team, yr)\n",
    "            del location[team][yr]\n",
    "        else:\n",
    "            location[team][yr][-1]['venue'] = home_venue\n",
    "            location[team][yr][days[-1]+1]['venue'] = home_venue"
   ]
  },
  {
   "cell_type": "code",
   "execution_count": 11,
   "id": "48402404-1d67-45bd-b5ce-1d288c94b737",
   "metadata": {},
   "outputs": [
    {
     "name": "stderr",
     "output_type": "stream",
     "text": [
      "100%|█| 56775/56775 [\n"
     ]
    }
   ],
   "source": [
    "for ind in tqdm(df.index):\n",
    "    home_team = df.loc[ind, 'home_team']\n",
    "    away_team = df.loc[ind, 'away_team']\n",
    "    home_score = df.loc[ind, 'home_score']\n",
    "    away_score = df.loc[ind, 'away_score']\n",
    "    yr = df.loc[ind, 'date'].year\n",
    "    day = df.loc[ind, 'day']\n",
    "    daygame = df.loc[ind, 'is_day_game']\n",
    "    venue = df.loc[ind, 'venue_name']\n",
    "    home_rate = ratings_df.loc[yr, home_team]\n",
    "    away_rate = ratings_df.loc[yr, away_team]\n",
    "\n",
    "    location[home_team][yr][day]['home'] = 1\n",
    "    location[away_team][yr][day]['away'] = 1    \n",
    "    if daygame:\n",
    "        location[home_team][yr][day]['daygame'] = 1\n",
    "        location[away_team][yr][day]['daygame'] = 1\n",
    "    location[home_team][yr][day]['venue'] = venue\n",
    "    location[away_team][yr][day]['venue'] = venue\n",
    "    if home_score == away_score:\n",
    "        location[home_team][yr][day]['won'] = 0.5\n",
    "        location[away_team][yr][day]['won'] = 0.5\n",
    "    elif home_score > away_score:\n",
    "        location[home_team][yr][day]['won'] = 1\n",
    "    else:\n",
    "        location[away_team][yr][day]['won'] = 1\n",
    "\n",
    "    location[home_team][yr][day]['odds'] = 10 ** ((home_rate - away_rate) / 400)\n",
    "    location[away_team][yr][day]['odds'] = 10 ** ((away_rate - home_rate) / 400)\n",
    "\n",
    "    location[home_team][yr][day]['expected'] = 1 / (1 + 10 ** ((away_rate - home_rate) / 400))\n",
    "    location[away_team][yr][day]['expected'] = 1 / (1 + 10 ** ((home_rate - away_rate) / 400))"
   ]
  },
  {
   "cell_type": "code",
   "execution_count": 12,
   "id": "d6006713-cd35-4898-ab9e-fbff69a3679b",
   "metadata": {},
   "outputs": [],
   "source": [
    "for team in teams:\n",
    "    for yr in years:\n",
    "        for day in reversed(days):\n",
    "            if location[team][yr][day]['venue'] is None:\n",
    "                location[team][yr][day]['venue'] = location[team][yr][day+1]['venue']\n",
    "        for day in extended_days[1:]:\n",
    "            yesterday_venue = location[team][yr][day-1]['venue']\n",
    "            today_venue = location[team][yr][day]['venue']\n",
    "            if yesterday_venue != today_venue:\n",
    "                location[team][yr][day]['travel'] = 1\n",
    "                location[team][yr][day]['miles'] = geodist(venue_df.loc[yesterday_venue].tolist(), venue_df.loc[today_venue].tolist()).miles\n",
    "        if sum([location[team][yr][dummy_day]['won'] for dummy_day in days]) == 0:\n",
    "            del location[team][yr]"
   ]
  },
  {
   "cell_type": "code",
   "execution_count": 13,
   "id": "bb255056-d504-41d1-bef8-65afeb0e8cfd",
   "metadata": {},
   "outputs": [],
   "source": [
    "MAX_DELAY = 7\n",
    "\n",
    "var_names = ['win', 'odds', 'expected'] + [f'{var}{delay}' for var, delay in itr.product(['home', 'away', 'daygame', 'travel', 'miles'], range(MAX_DELAY))]\n",
    "\n",
    "ind_names = []\n",
    "for team in teams:\n",
    "    for yr in location[team].keys():\n",
    "        for day in days:\n",
    "            ind_names.append(f'{team}{yr}{day}')"
   ]
  },
  {
   "cell_type": "code",
   "execution_count": 14,
   "id": "e69ea3c8-e9d6-4608-a1ac-a32beac71ef7",
   "metadata": {},
   "outputs": [
    {
     "name": "stderr",
     "output_type": "stream",
     "text": [
      "100%|█| 32/32 [00:02<\n"
     ]
    },
    {
     "name": "stdout",
     "output_type": "stream",
     "text": [
      "           won      odds  expected  home0  away0  daygame0  travel0  \\\n",
      "ANA20006   0.0  0.911570  0.476870    1.0    0.0       0.0      0.0   \n",
      "ANA20007   1.0  0.911570  0.476870    1.0    0.0       0.0      0.0   \n",
      "ANA20009   1.0  0.910219  0.476500    1.0    0.0       0.0      0.0   \n",
      "ANA200010  1.0  0.910219  0.476500    1.0    0.0       0.0      0.0   \n",
      "ANA200011  0.0  0.910219  0.476500    1.0    0.0       1.0      0.0   \n",
      "ANA200012  1.0  1.060365  0.514649    1.0    0.0       0.0      0.0   \n",
      "ANA200013  1.0  1.060365  0.514649    1.0    0.0       0.0      0.0   \n",
      "ANA200014  0.0  1.060365  0.514649    1.0    0.0       0.0      0.0   \n",
      "ANA200016  0.0  0.775286  0.436711    0.0    1.0       0.0      0.0   \n",
      "ANA200017  1.0  0.775286  0.436711    0.0    1.0       1.0      0.0   \n",
      "ANA200018  1.0  0.775286  0.436711    0.0    1.0       1.0      0.0   \n",
      "ANA200019  0.0  1.060365  0.514649    0.0    1.0       0.0      1.0   \n",
      "ANA200020  1.0  1.060365  0.514649    0.0    1.0       0.0      0.0   \n",
      "ANA200021  0.0  1.060365  0.514649    0.0    1.0       0.0      0.0   \n",
      "ANA200022  0.0  1.060365  0.514649    0.0    1.0       0.0      0.0   \n",
      "ANA200023  1.0  1.381800  0.580149    0.0    1.0       0.0      1.0   \n",
      "ANA200024  0.0  1.381800  0.580149    0.0    1.0       1.0      0.0   \n",
      "ANA200025  0.0  1.381800  0.580149    0.0    1.0       1.0      0.0   \n",
      "ANA200026  1.0  1.181084  0.541512    1.0    0.0       0.0      1.0   \n",
      "ANA200027  0.0  1.181084  0.541512    1.0    0.0       0.0      0.0   \n",
      "\n",
      "                miles0  home1  away1  ...  home5  away5  daygame5  travel5  \\\n",
      "ANA20006      0.000000    1.0    0.0  ...    0.0    0.0       0.0      0.0   \n",
      "ANA20007      0.000000    1.0    0.0  ...    0.0    0.0       0.0      0.0   \n",
      "ANA20009      0.000000    0.0    0.0  ...    0.0    0.0       0.0      0.0   \n",
      "ANA200010     0.000000    1.0    0.0  ...    1.0    0.0       0.0      0.0   \n",
      "ANA200011     0.000000    1.0    0.0  ...    1.0    0.0       0.0      0.0   \n",
      "ANA200012     0.000000    1.0    0.0  ...    1.0    0.0       0.0      0.0   \n",
      "ANA200013     0.000000    1.0    0.0  ...    0.0    0.0       0.0      0.0   \n",
      "ANA200014     0.000000    1.0    0.0  ...    1.0    0.0       0.0      0.0   \n",
      "ANA200016     0.000000    0.0    0.0  ...    1.0    0.0       1.0      0.0   \n",
      "ANA200017     0.000000    0.0    1.0  ...    1.0    0.0       0.0      0.0   \n",
      "ANA200018     0.000000    0.0    1.0  ...    1.0    0.0       0.0      0.0   \n",
      "ANA200019   441.403955    0.0    1.0  ...    1.0    0.0       0.0      0.0   \n",
      "ANA200020     0.000000    0.0    1.0  ...    0.0    0.0       0.0      1.0   \n",
      "ANA200021     0.000000    0.0    1.0  ...    0.0    1.0       0.0      0.0   \n",
      "ANA200022     0.000000    0.0    1.0  ...    0.0    1.0       1.0      0.0   \n",
      "ANA200023  1093.319254    0.0    1.0  ...    0.0    1.0       1.0      0.0   \n",
      "ANA200024     0.000000    0.0    1.0  ...    0.0    1.0       0.0      1.0   \n",
      "ANA200025     0.000000    0.0    1.0  ...    0.0    1.0       0.0      0.0   \n",
      "ANA200026  2125.402319    0.0    1.0  ...    0.0    1.0       0.0      0.0   \n",
      "ANA200027     0.000000    1.0    0.0  ...    0.0    1.0       0.0      0.0   \n",
      "\n",
      "                miles5  home6  away6  daygame6  travel6       miles6  \n",
      "ANA20006      0.000000    0.0    0.0       0.0      0.0     0.000000  \n",
      "ANA20007      0.000000    0.0    0.0       0.0      0.0     0.000000  \n",
      "ANA20009      0.000000    0.0    0.0       0.0      0.0     0.000000  \n",
      "ANA200010     0.000000    0.0    0.0       0.0      0.0     0.000000  \n",
      "ANA200011     0.000000    1.0    0.0       0.0      0.0     0.000000  \n",
      "ANA200012     0.000000    1.0    0.0       0.0      0.0     0.000000  \n",
      "ANA200013     0.000000    1.0    0.0       0.0      0.0     0.000000  \n",
      "ANA200014     0.000000    0.0    0.0       0.0      0.0     0.000000  \n",
      "ANA200016     0.000000    1.0    0.0       0.0      0.0     0.000000  \n",
      "ANA200017     0.000000    1.0    0.0       1.0      0.0     0.000000  \n",
      "ANA200018     0.000000    1.0    0.0       0.0      0.0     0.000000  \n",
      "ANA200019     0.000000    1.0    0.0       0.0      0.0     0.000000  \n",
      "ANA200020  1734.576143    1.0    0.0       0.0      0.0     0.000000  \n",
      "ANA200021     0.000000    0.0    0.0       0.0      1.0  1734.576143  \n",
      "ANA200022     0.000000    0.0    1.0       0.0      0.0     0.000000  \n",
      "ANA200023     0.000000    0.0    1.0       1.0      0.0     0.000000  \n",
      "ANA200024   441.403955    0.0    1.0       1.0      0.0     0.000000  \n",
      "ANA200025     0.000000    0.0    1.0       0.0      1.0   441.403955  \n",
      "ANA200026     0.000000    0.0    1.0       0.0      0.0     0.000000  \n",
      "ANA200027     0.000000    0.0    1.0       0.0      0.0     0.000000  \n",
      "\n",
      "[20 rows x 38 columns]\n",
      "(109701, 38)\n"
     ]
    }
   ],
   "source": [
    "ml_dict = {ind: {} for ind in ind_names}\n",
    "for team in tqdm(teams):\n",
    "    for yr in location[team].keys():\n",
    "        for day in days:\n",
    "            ind = f'{team}{yr}{day}'\n",
    "            ml_dict[ind]['won'] = location[team][yr][day]['won']\n",
    "            ml_dict[ind]['odds'] = location[team][yr][day]['odds']\n",
    "            ml_dict[ind]['expected'] = location[team][yr][day]['expected']\n",
    "            for delay_day in range(day, min(day + MAX_DELAY, days[-1]+1)):\n",
    "                delay_ind = f'{team}{yr}{delay_day}'\n",
    "                for var in ['home', 'away', 'daygame', 'travel', 'miles']:\n",
    "                    var_name = f'{var}{delay_day-day}'\n",
    "                    ml_dict[delay_ind][var_name] = location[team][yr][day][var]\n",
    "ml_df = pd.DataFrame(ml_dict).transpose()\n",
    "ml_df = ml_df.dropna()\n",
    "print(ml_df.iloc[:20, ])\n",
    "print(ml_df.shape)"
   ]
  },
  {
   "cell_type": "code",
   "execution_count": 15,
   "id": "79d0bd9d-fbb8-4e0f-9da6-f2a129d4836e",
   "metadata": {},
   "outputs": [],
   "source": [
    "ml_df.to_csv('.data/logregression_data.csv')"
   ]
  },
  {
   "cell_type": "code",
   "execution_count": 16,
   "id": "e197b9a5-9d55-40a1-96c9-8d4a93f895c6",
   "metadata": {},
   "outputs": [
    {
     "name": "stderr",
     "output_type": "stream",
     "text": [
      "C:\\Users\\georg\\OneDrive\\Documents\\Rice University\\Projects\\Datathon 2024\\MLB-Schedule-Morale\\.venv_datathon2024\\Lib\\site-packages\\seaborn\\_base.py:949: FutureWarning: When grouping with a length-1 list-like, you will need to pass a length-1 tuple to get_group in a future version of pandas. Pass `(name,)` instead of `name` to silence this warning.\n",
      "  data_subset = grouped_data.get_group(pd_key)\n",
      "C:\\Users\\georg\\OneDrive\\Documents\\Rice University\\Projects\\Datathon 2024\\MLB-Schedule-Morale\\.venv_datathon2024\\Lib\\site-packages\\seaborn\\_base.py:949: FutureWarning: When grouping with a length-1 list-like, you will need to pass a length-1 tuple to get_group in a future version of pandas. Pass `(name,)` instead of `name` to silence this warning.\n",
      "  data_subset = grouped_data.get_group(pd_key)\n",
      "C:\\Users\\georg\\OneDrive\\Documents\\Rice University\\Projects\\Datathon 2024\\MLB-Schedule-Morale\\.venv_datathon2024\\Lib\\site-packages\\seaborn\\_base.py:949: FutureWarning: When grouping with a length-1 list-like, you will need to pass a length-1 tuple to get_group in a future version of pandas. Pass `(name,)` instead of `name` to silence this warning.\n",
      "  data_subset = grouped_data.get_group(pd_key)\n"
     ]
    },
    {
     "data": {
      "image/png": "[encoded data removed]",
      "text/plain": [
       "<Figure size 640x480 with 1 Axes>"
      ]
     },
     "metadata": {},
     "output_type": "display_data"
    }
   ],
   "source": [
    "sns.violinplot(x=ml_df['won'].astype(float), y=ml_df['expected'])\n",
    "plt.xlabel('Observed win')\n",
    "plt.ylabel('Expected win chance')\n",
    "plt.title('ELO-predicted wins')\n",
    "plt.show()"
   ]
  },
  {
   "cell_type": "code",
   "execution_count": 17,
   "id": "d0cad924-c93d-4219-9461-ef005b4e8338",
   "metadata": {},
   "outputs": [
    {
     "name": "stdout",
     "output_type": "stream",
     "text": [
      "[[1.         0.20447649 0.19500906]\n",
      " [0.20447649 1.         0.95304354]\n",
      " [0.19500906 0.95304354 1.        ]]\n",
      "[[1.         0.04181064 0.03802854]\n",
      " [0.04181064 1.         0.90829199]\n",
      " [0.03802854 0.90829199 1.        ]]\n"
     ]
    }
   ],
   "source": [
    "corr = np.corrcoef(ml_df[['won', 'expected', 'odds']].astype(float).transpose())\n",
    "print(corr)\n",
    "print(corr ** 2)"
   ]
  }
 ],
 "metadata": {
  "kernelspec": {
   "display_name": ".venv_datathon2024",
   "language": "python",
   "name": ".venv_datathon2024"
  },
  "language_info": {
   "codemirror_mode": {
    "name": "ipython",
    "version": 3
   },
   "file_extension": ".py",
   "mimetype": "text/x-python",
   "name": "python",
   "nbconvert_exporter": "python",
   "pygments_lexer": "ipython3",
   "version": "3.11.6"
  }
 },
 "nbformat": 4,
 "nbformat_minor": 5
}
